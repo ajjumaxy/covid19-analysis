{
 "cells": [
  {
   "cell_type": "markdown",
   "metadata": {},
   "source": [
    "## Topic Modelling on Twitter Data"
   ]
  },
  {
   "cell_type": "code",
   "execution_count": 217,
   "metadata": {},
   "outputs": [],
   "source": [
    "# !pip install gensim "
   ]
  },
  {
   "cell_type": "code",
   "execution_count": 218,
   "metadata": {},
   "outputs": [],
   "source": [
    "# conda install -c conda-forge pyldavis"
   ]
  },
  {
   "cell_type": "code",
   "execution_count": 219,
   "metadata": {},
   "outputs": [],
   "source": [
    "import pandas as pd\n",
    "import numpy as np\n",
    "import matplotlib.pyplot as plt\n",
    "\n",
    "import gensim as gensim\n",
    "import nltk\n",
    "from sklearn.feature_extraction.text import CountVectorizer\n",
    "import re\n",
    "\n",
    "import json\n",
    "from googletrans import Translator\n",
    "\n",
    "import seaborn as sns\n",
    "import matplotlib.style as style\n",
    "import matplotlib\n",
    "import matplotlib.pyplot as plt"
   ]
  },
  {
   "cell_type": "markdown",
   "metadata": {},
   "source": [
    "### Retrieve Data"
   ]
  },
  {
   "cell_type": "code",
   "execution_count": 220,
   "metadata": {},
   "outputs": [
    {
     "name": "stdout",
     "output_type": "stream",
     "text": [
      "(6687, 4)\n"
     ]
    },
    {
     "data": {
      "text/html": [
       "<div>\n",
       "<style scoped>\n",
       "    .dataframe tbody tr th:only-of-type {\n",
       "        vertical-align: middle;\n",
       "    }\n",
       "\n",
       "    .dataframe tbody tr th {\n",
       "        vertical-align: top;\n",
       "    }\n",
       "\n",
       "    .dataframe thead th {\n",
       "        text-align: right;\n",
       "    }\n",
       "</style>\n",
       "<table border=\"1\" class=\"dataframe\">\n",
       "  <thead>\n",
       "    <tr style=\"text-align: right;\">\n",
       "      <th></th>\n",
       "      <th>username</th>\n",
       "      <th>text</th>\n",
       "      <th>date</th>\n",
       "      <th>processed_tweets</th>\n",
       "    </tr>\n",
       "  </thead>\n",
       "  <tbody>\n",
       "    <tr>\n",
       "      <th>0</th>\n",
       "      <td>PuteriAmirah01</td>\n",
       "      <td>b'RT @rndsmsl: Kiamat dh dekat knp aku masih malas solat \\xf0\\x9f\\x98\\x94'</td>\n",
       "      <td>2020-01-27</td>\n",
       "      <td>News Apocalypse is near why I'm still lazy prayers</td>\n",
       "    </tr>\n",
       "    <tr>\n",
       "      <th>1</th>\n",
       "      <td>joseph_yeow</td>\n",
       "      <td>b'RT @new_prykm: This video shows how South Korea Airport is dealing with #coronavirus #\\xe0\\xb9...</td>\n",
       "      <td>2020-01-27</td>\n",
       "      <td>This video shows how South Korea Airport is dealing with coronavirus  from spreading</td>\n",
       "    </tr>\n",
       "    <tr>\n",
       "      <th>2</th>\n",
       "      <td>_naufalraffid</td>\n",
       "      <td>b'RT @L0s3r_AT_w0rk: Thomas had never seen such bullshit before\\n#CoronaOutbreak https://t.co/RY...</td>\n",
       "      <td>2020-01-27</td>\n",
       "      <td>Thomas had never seen such bullshit before</td>\n",
       "    </tr>\n",
       "    <tr>\n",
       "      <th>3</th>\n",
       "      <td>FaadehlehHakehm</td>\n",
       "      <td>b'RT @chey_cobb: Chinese officials say this is a photo of a new hospital building in #Wuhan.\\n\\n...</td>\n",
       "      <td>2020-01-27</td>\n",
       "      <td>Chinese officials say this is a photo of a new hospital building in Wuhan because a reverse ima...</td>\n",
       "    </tr>\n",
       "    <tr>\n",
       "      <th>4</th>\n",
       "      <td>miz4h</td>\n",
       "      <td>b'RT @putridamiaa: spread this, it\\xe2\\x80\\x99s worth to share :) #coronarvirus https://t.co/rLA...</td>\n",
       "      <td>2020-01-27</td>\n",
       "      <td>spread this it worth to share coronavirus</td>\n",
       "    </tr>\n",
       "  </tbody>\n",
       "</table>\n",
       "</div>"
      ],
      "text/plain": [
       "          username  \\\n",
       "0   PuteriAmirah01   \n",
       "1      joseph_yeow   \n",
       "2    _naufalraffid   \n",
       "3  FaadehlehHakehm   \n",
       "4            miz4h   \n",
       "\n",
       "                                                                                                  text  \\\n",
       "0                           b'RT @rndsmsl: Kiamat dh dekat knp aku masih malas solat \\xf0\\x9f\\x98\\x94'   \n",
       "1  b'RT @new_prykm: This video shows how South Korea Airport is dealing with #coronavirus #\\xe0\\xb9...   \n",
       "2  b'RT @L0s3r_AT_w0rk: Thomas had never seen such bullshit before\\n#CoronaOutbreak https://t.co/RY...   \n",
       "3  b'RT @chey_cobb: Chinese officials say this is a photo of a new hospital building in #Wuhan.\\n\\n...   \n",
       "4  b'RT @putridamiaa: spread this, it\\xe2\\x80\\x99s worth to share :) #coronarvirus https://t.co/rLA...   \n",
       "\n",
       "         date  \\\n",
       "0  2020-01-27   \n",
       "1  2020-01-27   \n",
       "2  2020-01-27   \n",
       "3  2020-01-27   \n",
       "4  2020-01-27   \n",
       "\n",
       "                                                                                      processed_tweets  \n",
       "0                                                   News Apocalypse is near why I'm still lazy prayers  \n",
       "1                 This video shows how South Korea Airport is dealing with coronavirus  from spreading  \n",
       "2                                                           Thomas had never seen such bullshit before  \n",
       "3   Chinese officials say this is a photo of a new hospital building in Wuhan because a reverse ima...  \n",
       "4                                                            spread this it worth to share coronavirus  "
      ]
     },
     "execution_count": 220,
     "metadata": {},
     "output_type": "execute_result"
    }
   ],
   "source": [
    "# Retrieve data\n",
    "\n",
    "tweets_df = pd.read_csv('combined_sg_tweets.csv', index_col=0)\n",
    "\n",
    "print(tweets_df.shape)\n",
    "tweets_df.head()"
   ]
  },
  {
   "cell_type": "code",
   "execution_count": 221,
   "metadata": {},
   "outputs": [
    {
     "name": "stdout",
     "output_type": "stream",
     "text": [
      "Total number of tweets: \n",
      "6687 \n",
      "\n",
      "Sample tweets: \n",
      "[\"News Apocalypse is near why I'm still lazy prayers\", ' This video shows how South Korea Airport is dealing with coronavirus  from spreading', ' Thomas had never seen such bullshit before']\n"
     ]
    }
   ],
   "source": [
    "# Get all tweets(string) in a list\n",
    "\n",
    "tweets_list = tweets_df['processed_tweets'].tolist()\n",
    "\n",
    "print(\"Total number of tweets: \\n{} \\n\".format(len(tweets_list)))\n",
    "print(\"Sample tweets: \\n{}\".format(tweets_list[:3]))"
   ]
  },
  {
   "cell_type": "markdown",
   "metadata": {},
   "source": [
    "### Tokenisation and Stop Words Removal"
   ]
  },
  {
   "cell_type": "code",
   "execution_count": 222,
   "metadata": {},
   "outputs": [],
   "source": [
    "from nltk.tokenize import RegexpTokenizer\n",
    "#splits string into substrings using a regular expression\n",
    "#tokenises words that contain 1 or more (+) alphanumeric characters (\\w) or '@'\n",
    "retokenizer = RegexpTokenizer(r'[\\w@]+')\n",
    "\n",
    "# create stop words list\n",
    "from nltk.corpus import stopwords\n",
    "stop_words = stopwords.words('english')\n",
    "# add twitter specific stop words\n",
    "stop_words += [\"rt\", \"got\", \"thats\", \"would\", \"going\", \"u\", \n",
    "               \"get\", \"also\", \"one\", \"could\", \"said\", \"like\",\n",
    "               \"covid\", \"coronavirus\", \"covid_19\", \"covid19\",\n",
    "               \"via\", \"say\", \"amp\", \"many\", \"need\", \"day\",\n",
    "               \"coronavirusoutbreak\", \"covid2019\", \"want\", \"covid_\",\n",
    "               \"last\", \"ncov\", \"novelcoronavirus\", \"people\",\n",
    "               \"done\", \"two\", \"virus\", \"coronaviruspandemic\",\n",
    "               \"outbreak\", \"know\", \"upon\", \"may\", \"way\",\n",
    "               \"saw\", \"gtgt\", \"wuhanvirus\", \"brt\", \"2019ncov\",\n",
    "               \"told\", \"wuhan\", \"china\", \"novel\"\n",
    "              ]\n",
    "\n",
    "# create lemmatizer\n",
    "wnl = nltk.stem.wordnet.WordNetLemmatizer()"
   ]
  },
  {
   "cell_type": "code",
   "execution_count": 223,
   "metadata": {},
   "outputs": [],
   "source": [
    "def process_text(documents, stop_words):\n",
    "    processed_docs = []\n",
    "    doc_tokens = []\n",
    "    for doc in documents:\n",
    "        doc = str(doc).lower()\n",
    "        doc_tokens = retokenizer.tokenize(doc)\n",
    "        doc_tokens = [token for token in doc_tokens if token not in stop_words]\n",
    "        doc_tokens = [token for token in doc_tokens if len(token)>2]\n",
    "        doc_tokens = [wnl.lemmatize(token) for token in doc_tokens]    \n",
    "        processed_docs.append(doc_tokens)\n",
    "    return processed_docs"
   ]
  },
  {
   "cell_type": "code",
   "execution_count": 224,
   "metadata": {},
   "outputs": [
    {
     "name": "stdout",
     "output_type": "stream",
     "text": [
      "6687\n"
     ]
    }
   ],
   "source": [
    "# Gets a list of list of tokens (each nested list is from one tweet)\n",
    "\n",
    "processed_tweets = process_text(tweets_list, stop_words)\n",
    "\n",
    "# print(processed_tweets)\n",
    "print(len(processed_tweets))"
   ]
  },
  {
   "cell_type": "markdown",
   "metadata": {},
   "source": [
    "### Topic Modelling"
   ]
  },
  {
   "cell_type": "markdown",
   "metadata": {},
   "source": [
    "#### 1 - Create a dictionary representaion\n",
    "`gensim` dictionary assigns an integer id to each unique word in the corpus"
   ]
  },
  {
   "cell_type": "code",
   "execution_count": 225,
   "metadata": {},
   "outputs": [
    {
     "name": "stdout",
     "output_type": "stream",
     "text": [
      "Sample word to id mappings:\n",
      " [(0, 'apocalypse'), (1, 'lazy'), (2, 'near'), (3, 'news'), (4, 'prayer'), (5, 'still'), (6, 'airport'), (7, 'dealing'), (8, 'korea'), (9, 'show'), (10, 'south'), (11, 'spreading'), (12, 'video'), (13, 'bullshit'), (14, 'never'), (15, 'seen'), (16, 'thomas'), (17, 'building'), (18, 'chinese'), (19, 'hospital'), (20, 'image'), (21, 'new'), (22, 'official'), (23, 'photo'), (24, 'reveals'), (25, 'reverse'), (26, 'search'), (27, 'share'), (28, 'spread'), (29, 'worth'), (30, 'alleged'), (31, 'brazil'), (32, 'different'), (33, 'epidemiologist'), (34, 'health'), (35, 'leak'), (36, 'ministry'), (37, 'par'), (38, 'say'), (39, 'someone'), (40, 'taken'), (41, 'working'), (42, 'change'), (43, 'disgusting'), (44, 'gam'), (45, 'habit'), (46, 'joke'), (47, 'matter'), (48, 'please'), (49, 'really2'), (50, 'retweet'), (51, 'serious'), (52, 'city'), (53, 'five'), (54, 'left'), (55, 'lockdown'), (56, 'mayor'), (57, 'million'), (58, 'resident'), (59, 'went'), (60, 'away'), (61, 'demand'), (62, 'man'), (63, 'patient'), (64, 'quarantine'), (65, 'relative'), (66, 'turn'), (67, 'zone'), (68, 'antiviral'), (69, 'center'), (70, 'clinical'), (71, 'developed'), (72, 'public'), (73, 'put'), (74, 'shanghai')]\n",
      "Total Vocabulary Size: 8768\n"
     ]
    }
   ],
   "source": [
    "# Create a dictionary representation of the documents. Each word gets an id\n",
    "dictionary = gensim.corpora.Dictionary(processed_tweets)\n",
    "\n",
    "print('Sample word to id mappings:\\n', list(dictionary.items())[:75])\n",
    "print('Total Vocabulary Size:', len(dictionary))"
   ]
  },
  {
   "cell_type": "markdown",
   "metadata": {},
   "source": [
    "#### 2 -  Set parameters\n",
    "Filter the vocabulary based on frequency, so as not to use less important words or words that do not help differentiate the topics."
   ]
  },
  {
   "cell_type": "code",
   "execution_count": 226,
   "metadata": {},
   "outputs": [
    {
     "name": "stdout",
     "output_type": "stream",
     "text": [
      "Total Vocabulary Size: 477\n"
     ]
    }
   ],
   "source": [
    "# Filter out words that occur in less than 20 documents, or more than 50% of the documents.\n",
    "dictionary.filter_extremes(no_below=20, no_above=0.5)\n",
    "print('Total Vocabulary Size:', len(dictionary))"
   ]
  },
  {
   "cell_type": "markdown",
   "metadata": {},
   "source": [
    "#### 3 - Create the vector space model (bag of words model in gensim)\n",
    "The function `doc2bow()` counts the number of occurrences of each unique word, converts the word to its integer word id and returns the result as a sparse vector(words from the dictionary not present in the document are not stored in the document vector)\n"
   ]
  },
  {
   "cell_type": "code",
   "execution_count": 227,
   "metadata": {},
   "outputs": [],
   "source": [
    "# Transforming corpus into bag of words vectors\n",
    "corpus_vect = [dictionary.doc2bow(text) for text in processed_tweets]"
   ]
  },
  {
   "cell_type": "code",
   "execution_count": 228,
   "metadata": {},
   "outputs": [
    {
     "name": "stdout",
     "output_type": "stream",
     "text": [
      "[(4, 1), (5, 1), (6, 1), (7, 1), (8, 1), (9, 1)]\n",
      "\n",
      "\n",
      "['video', 'show', 'south', 'korea', 'airport', 'dealing', 'spreading']\n"
     ]
    }
   ],
   "source": [
    "#Check how the vector looks for the second tweet document\n",
    "print(corpus_vect[1])\n",
    "print(\"\\n\", )\n",
    "print(processed_tweets[1])"
   ]
  },
  {
   "cell_type": "code",
   "execution_count": 229,
   "metadata": {},
   "outputs": [
    {
     "name": "stdout",
     "output_type": "stream",
     "text": [
      "6687\n"
     ]
    }
   ],
   "source": [
    "# print(type(corpus_vect))\n",
    "print(len(corpus_vect))"
   ]
  },
  {
   "cell_type": "code",
   "execution_count": 230,
   "metadata": {},
   "outputs": [
    {
     "name": "stdout",
     "output_type": "stream",
     "text": [
      "[('airport', 1), ('korea', 1), ('show', 1), ('south', 1), ('spreading', 1), ('video', 1)]\n"
     ]
    }
   ],
   "source": [
    "#Viewing them as terms and their document frequencies, index into the dictionary\n",
    "\n",
    "print([(dictionary[id] , freq) for id, freq in corpus_vect[1][:20]])"
   ]
  },
  {
   "cell_type": "markdown",
   "metadata": {},
   "source": [
    "#### Build the LDA model"
   ]
  },
  {
   "cell_type": "code",
   "execution_count": 231,
   "metadata": {},
   "outputs": [],
   "source": [
    "num_topics = 3"
   ]
  },
  {
   "cell_type": "code",
   "execution_count": 232,
   "metadata": {},
   "outputs": [],
   "source": [
    "import pickle"
   ]
  },
  {
   "cell_type": "code",
   "execution_count": 233,
   "metadata": {},
   "outputs": [
    {
     "name": "stdout",
     "output_type": "stream",
     "text": [
      "0: 0.020*\"time\" + 0.019*\"mask\" + 0.017*\"patient\" + 0.015*\"pandemic\" + 0.014*\"help\" + 0.013*\"please\" + 0.012*\"safe\" + 0.012*\"look\" + 0.012*\"good\" + 0.012*\"news\"\n",
      "1: 0.055*\"turkey\" + 0.049*\"evil\" + 0.047*\"world\" + 0.039*\"medical\" + 0.033*\"proud\" + 0.032*\"peace\" + 0.030*\"muhammad\" + 0.030*\"prophet\" + 0.026*\"respond\" + 0.026*\"sent\"\n",
      "2: 0.073*\"singapore\" + 0.055*\"case\" + 0.027*\"first\" + 0.025*\"singaporean\" + 0.023*\"driver\" + 0.023*\"confirmed\" + 0.022*\"thoughtful\" + 0.022*\"grab\" + 0.022*\"new\" + 0.018*\"home\"\n"
     ]
    }
   ],
   "source": [
    "# Load previously generated model from disk\n",
    "\n",
    "ldamodel = pickle.load(open(\"twitter_lda2\", 'rb'))\n",
    "for num ,topic in ldamodel.show_topics(formatted=True, num_topics=num_topics, num_words=10):\n",
    "    print(str(num)+\": \"+ topic)"
   ]
  },
  {
   "cell_type": "code",
   "execution_count": 234,
   "metadata": {},
   "outputs": [],
   "source": [
    "# Build LDA model\n",
    "\n",
    "# ldamodel = gensim.models.ldamodel.LdaModel(corpus_vect, num_topics = num_topics, id2word=dictionary, passes=25)"
   ]
  },
  {
   "cell_type": "code",
   "execution_count": 235,
   "metadata": {},
   "outputs": [
    {
     "name": "stdout",
     "output_type": "stream",
     "text": [
      "[(0, '0.020*\"time\" + 0.019*\"mask\" + 0.017*\"patient\" + 0.015*\"pandemic\" + 0.014*\"help\" + 0.013*\"please\" + 0.012*\"safe\" + 0.012*\"look\" + 0.012*\"good\" + 0.012*\"news\"'), (1, '0.055*\"turkey\" + 0.049*\"evil\" + 0.047*\"world\" + 0.039*\"medical\" + 0.033*\"proud\" + 0.032*\"peace\" + 0.030*\"muhammad\" + 0.030*\"prophet\" + 0.026*\"respond\" + 0.026*\"sent\"'), (2, '0.073*\"singapore\" + 0.055*\"case\" + 0.027*\"first\" + 0.025*\"singaporean\" + 0.023*\"driver\" + 0.023*\"confirmed\" + 0.022*\"thoughtful\" + 0.022*\"grab\" + 0.022*\"new\" + 0.018*\"home\"')]\n"
     ]
    }
   ],
   "source": [
    "print(ldamodel.print_topics(num_topics = num_topics, num_words = 10))"
   ]
  },
  {
   "cell_type": "code",
   "execution_count": 236,
   "metadata": {},
   "outputs": [
    {
     "name": "stdout",
     "output_type": "stream",
     "text": [
      "0: 0.020*\"time\" + 0.019*\"mask\" + 0.017*\"patient\" + 0.015*\"pandemic\" + 0.014*\"help\" + 0.013*\"please\" + 0.012*\"safe\" + 0.012*\"look\" + 0.012*\"good\" + 0.012*\"news\"\n",
      "1: 0.055*\"turkey\" + 0.049*\"evil\" + 0.047*\"world\" + 0.039*\"medical\" + 0.033*\"proud\" + 0.032*\"peace\" + 0.030*\"muhammad\" + 0.030*\"prophet\" + 0.026*\"respond\" + 0.026*\"sent\"\n",
      "2: 0.073*\"singapore\" + 0.055*\"case\" + 0.027*\"first\" + 0.025*\"singaporean\" + 0.023*\"driver\" + 0.023*\"confirmed\" + 0.022*\"thoughtful\" + 0.022*\"grab\" + 0.022*\"new\" + 0.018*\"home\"\n"
     ]
    }
   ],
   "source": [
    "for num ,topic in ldamodel.show_topics(formatted=True, num_topics=num_topics, num_words=10):\n",
    "    print(str(num)+\": \"+ topic)"
   ]
  },
  {
   "cell_type": "code",
   "execution_count": 237,
   "metadata": {},
   "outputs": [],
   "source": [
    "topics = ldamodel.show_topics(formatted=True, num_topics=num_topics, num_words=10)"
   ]
  },
  {
   "cell_type": "code",
   "execution_count": 238,
   "metadata": {},
   "outputs": [],
   "source": [
    "# print(topics[1])"
   ]
  },
  {
   "cell_type": "markdown",
   "metadata": {},
   "source": [
    "#### Compute Coherence Score"
   ]
  },
  {
   "cell_type": "code",
   "execution_count": 239,
   "metadata": {},
   "outputs": [
    {
     "name": "stdout",
     "output_type": "stream",
     "text": [
      "\n",
      "Coherence Score:  0.4003780680683675\n"
     ]
    }
   ],
   "source": [
    "from gensim.models import CoherenceModel\n",
    "\n",
    "# Compute Coherence Score for LDA Model\n",
    "coherence_model_lda = CoherenceModel(model=ldamodel, texts=processed_tweets, dictionary=dictionary, coherence='c_v')\n",
    "coherence_lda = coherence_model_lda.get_coherence()\n",
    "print('\\nCoherence Score: ', coherence_lda)"
   ]
  },
  {
   "cell_type": "markdown",
   "metadata": {},
   "source": [
    "#### Finding Optimal Number of Topics"
   ]
  },
  {
   "cell_type": "code",
   "execution_count": 240,
   "metadata": {},
   "outputs": [],
   "source": [
    "# def compute_coherence_values(dictionary, corpus, texts, limit, start=2, step=3):\n",
    "#     \"\"\"\n",
    "#     Compute c_v coherence for various number of topics\n",
    "\n",
    "#     Parameters:\n",
    "#     ----------\n",
    "#     dictionary : Gensim dictionary\n",
    "#     corpus : Gensim corpus\n",
    "#     texts : List of input texts\n",
    "#     limit : Max num of topics\n",
    "\n",
    "#     Returns:\n",
    "#     -------\n",
    "#     model_list : List of LDA topic models\n",
    "#     coherence_values : Coherence values corresponding to the LDA model with respective number of topics\n",
    "#     \"\"\"\n",
    "#     coherence_values = []\n",
    "#     model_list = []\n",
    "#     for num_topics in range(start, limit, step):\n",
    "# #         model = gensim.models.wrappers.LdaMallet(mallet_path, corpus=corpus, num_topics=num_topics, id2word=id2word)\n",
    "# #         model_list.append(model)\n",
    "#         model = gensim.models.ldamodel.LdaModel(corpus_vect, num_topics = num_topics, id2word=dictionary, passes=25)\n",
    "#         model_list.append(model)\n",
    "#         coherencemodel = CoherenceModel(model=model, texts=texts, dictionary=dictionary, coherence='c_v')\n",
    "#         coherence_values.append(coherencemodel.get_coherence())\n",
    "\n",
    "#     return model_list, coherence_values"
   ]
  },
  {
   "cell_type": "code",
   "execution_count": 241,
   "metadata": {},
   "outputs": [],
   "source": [
    "# # Can take a long time to run.\n",
    "# model_list, coherence_values = compute_coherence_values(dictionary=dictionary, corpus=corpus_vect, texts=processed_tweets, start=2, limit=40, step=6)"
   ]
  },
  {
   "cell_type": "code",
   "execution_count": 242,
   "metadata": {},
   "outputs": [],
   "source": [
    "# # Show graph\n",
    "# limit=40; start=2; step=6;\n",
    "# x = range(start, limit, step)\n",
    "# plt.plot(x, coherence_values)\n",
    "# plt.xlabel(\"Num Topics\")\n",
    "# plt.ylabel(\"Coherence score\")\n",
    "# plt.legend((\"coherence_values\"), loc='best')\n",
    "# plt.show()"
   ]
  },
  {
   "cell_type": "code",
   "execution_count": 243,
   "metadata": {},
   "outputs": [],
   "source": [
    "# # Print the coherence scores\n",
    "# for m, cv in zip(x, coherence_values):\n",
    "#     print(\"Num Topics =\", m, \" has Coherence Value of\", round(cv, 4))"
   ]
  },
  {
   "cell_type": "markdown",
   "metadata": {},
   "source": [
    "#### Get Dominant Topic for Each Tweet"
   ]
  },
  {
   "cell_type": "code",
   "execution_count": 244,
   "metadata": {},
   "outputs": [
    {
     "data": {
      "text/html": [
       "<div>\n",
       "<style scoped>\n",
       "    .dataframe tbody tr th:only-of-type {\n",
       "        vertical-align: middle;\n",
       "    }\n",
       "\n",
       "    .dataframe tbody tr th {\n",
       "        vertical-align: top;\n",
       "    }\n",
       "\n",
       "    .dataframe thead th {\n",
       "        text-align: right;\n",
       "    }\n",
       "</style>\n",
       "<table border=\"1\" class=\"dataframe\">\n",
       "  <thead>\n",
       "    <tr style=\"text-align: right;\">\n",
       "      <th></th>\n",
       "      <th>Document_No</th>\n",
       "      <th>Dominant_Topic</th>\n",
       "      <th>Topic_Perc_Contrib</th>\n",
       "      <th>Keywords</th>\n",
       "      <th>Text</th>\n",
       "    </tr>\n",
       "  </thead>\n",
       "  <tbody>\n",
       "    <tr>\n",
       "      <th>0</th>\n",
       "      <td>0</td>\n",
       "      <td>0.0</td>\n",
       "      <td>0.8661</td>\n",
       "      <td>time, mask, patient, pandemic, help, please, safe, look, good, news</td>\n",
       "      <td>[news, apocalypse, near, still, lazy, prayer]</td>\n",
       "    </tr>\n",
       "    <tr>\n",
       "      <th>1</th>\n",
       "      <td>1</td>\n",
       "      <td>0.0</td>\n",
       "      <td>0.6174</td>\n",
       "      <td>time, mask, patient, pandemic, help, please, safe, look, good, news</td>\n",
       "      <td>[video, show, south, korea, airport, dealing, spreading]</td>\n",
       "    </tr>\n",
       "    <tr>\n",
       "      <th>2</th>\n",
       "      <td>2</td>\n",
       "      <td>2.0</td>\n",
       "      <td>0.6665</td>\n",
       "      <td>singapore, case, first, singaporean, driver, confirmed, thoughtful, grab, new, home</td>\n",
       "      <td>[thomas, never, seen, bullshit]</td>\n",
       "    </tr>\n",
       "    <tr>\n",
       "      <th>3</th>\n",
       "      <td>3</td>\n",
       "      <td>1.0</td>\n",
       "      <td>0.3963</td>\n",
       "      <td>turkey, evil, world, medical, proud, peace, muhammad, prophet, respond, sent</td>\n",
       "      <td>[chinese, official, photo, new, hospital, building, reverse, image, search, reveals]</td>\n",
       "    </tr>\n",
       "    <tr>\n",
       "      <th>4</th>\n",
       "      <td>4</td>\n",
       "      <td>0.0</td>\n",
       "      <td>0.7742</td>\n",
       "      <td>time, mask, patient, pandemic, help, please, safe, look, good, news</td>\n",
       "      <td>[spread, worth, share]</td>\n",
       "    </tr>\n",
       "    <tr>\n",
       "      <th>5</th>\n",
       "      <td>5</td>\n",
       "      <td>2.0</td>\n",
       "      <td>0.5121</td>\n",
       "      <td>singapore, case, first, singaporean, driver, confirmed, thoughtful, grab, new, home</td>\n",
       "      <td>[alleged, leak, epidemiologist, working, brazil, ministry, health, say, someone, taken, differen...</td>\n",
       "    </tr>\n",
       "    <tr>\n",
       "      <th>6</th>\n",
       "      <td>6</td>\n",
       "      <td>0.0</td>\n",
       "      <td>0.9393</td>\n",
       "      <td>time, mask, patient, pandemic, help, please, safe, look, good, news</td>\n",
       "      <td>[please, retweet, change, disgusting, habit, really2, serious, matter, joke, gam]</td>\n",
       "    </tr>\n",
       "    <tr>\n",
       "      <th>7</th>\n",
       "      <td>7</td>\n",
       "      <td>0.0</td>\n",
       "      <td>0.5031</td>\n",
       "      <td>time, mask, patient, pandemic, help, please, safe, look, good, news</td>\n",
       "      <td>[mayor, reveals, five, million, resident, left, city, went, lockdown]</td>\n",
       "    </tr>\n",
       "    <tr>\n",
       "      <th>8</th>\n",
       "      <td>8</td>\n",
       "      <td>0.0</td>\n",
       "      <td>0.9393</td>\n",
       "      <td>time, mask, patient, pandemic, help, please, safe, look, good, news</td>\n",
       "      <td>[please, retweet, change, disgusting, habit, really2, serious, matter, joke, gam]</td>\n",
       "    </tr>\n",
       "    <tr>\n",
       "      <th>9</th>\n",
       "      <td>9</td>\n",
       "      <td>2.0</td>\n",
       "      <td>0.5523</td>\n",
       "      <td>singapore, case, first, singaporean, driver, confirmed, thoughtful, grab, new, home</td>\n",
       "      <td>[new, video, quarantine, zone, man, demand, hospital, turn, away, patient, relative]</td>\n",
       "    </tr>\n",
       "  </tbody>\n",
       "</table>\n",
       "</div>"
      ],
      "text/plain": [
       "   Document_No  Dominant_Topic  Topic_Perc_Contrib  \\\n",
       "0            0             0.0              0.8661   \n",
       "1            1             0.0              0.6174   \n",
       "2            2             2.0              0.6665   \n",
       "3            3             1.0              0.3963   \n",
       "4            4             0.0              0.7742   \n",
       "5            5             2.0              0.5121   \n",
       "6            6             0.0              0.9393   \n",
       "7            7             0.0              0.5031   \n",
       "8            8             0.0              0.9393   \n",
       "9            9             2.0              0.5523   \n",
       "\n",
       "                                                                              Keywords  \\\n",
       "0                  time, mask, patient, pandemic, help, please, safe, look, good, news   \n",
       "1                  time, mask, patient, pandemic, help, please, safe, look, good, news   \n",
       "2  singapore, case, first, singaporean, driver, confirmed, thoughtful, grab, new, home   \n",
       "3         turkey, evil, world, medical, proud, peace, muhammad, prophet, respond, sent   \n",
       "4                  time, mask, patient, pandemic, help, please, safe, look, good, news   \n",
       "5  singapore, case, first, singaporean, driver, confirmed, thoughtful, grab, new, home   \n",
       "6                  time, mask, patient, pandemic, help, please, safe, look, good, news   \n",
       "7                  time, mask, patient, pandemic, help, please, safe, look, good, news   \n",
       "8                  time, mask, patient, pandemic, help, please, safe, look, good, news   \n",
       "9  singapore, case, first, singaporean, driver, confirmed, thoughtful, grab, new, home   \n",
       "\n",
       "                                                                                                  Text  \n",
       "0                                                        [news, apocalypse, near, still, lazy, prayer]  \n",
       "1                                             [video, show, south, korea, airport, dealing, spreading]  \n",
       "2                                                                      [thomas, never, seen, bullshit]  \n",
       "3                 [chinese, official, photo, new, hospital, building, reverse, image, search, reveals]  \n",
       "4                                                                               [spread, worth, share]  \n",
       "5  [alleged, leak, epidemiologist, working, brazil, ministry, health, say, someone, taken, differen...  \n",
       "6                    [please, retweet, change, disgusting, habit, really2, serious, matter, joke, gam]  \n",
       "7                                [mayor, reveals, five, million, resident, left, city, went, lockdown]  \n",
       "8                    [please, retweet, change, disgusting, habit, really2, serious, matter, joke, gam]  \n",
       "9                 [new, video, quarantine, zone, man, demand, hospital, turn, away, patient, relative]  "
      ]
     },
     "execution_count": 244,
     "metadata": {},
     "output_type": "execute_result"
    }
   ],
   "source": [
    "def format_topics_sentences(ldamodel, corpus, texts):\n",
    "    # Init output\n",
    "    sent_topics_df = pd.DataFrame()\n",
    "\n",
    "    # Get main topic in each document\n",
    "    for i, row_list in enumerate(ldamodel[corpus]):\n",
    "        row = row_list[0] if ldamodel.per_word_topics else row_list            \n",
    "        # print(row)\n",
    "        row = sorted(row, key=lambda x: (x[1]), reverse=True)\n",
    "        # Get the Dominant topic, Perc Contribution and Keywords for each document\n",
    "        for j, (topic_num, prop_topic) in enumerate(row):\n",
    "            if j == 0:  # => dominant topic\n",
    "                wp = ldamodel.show_topic(topic_num)\n",
    "                topic_keywords = \", \".join([word for word, prop in wp])\n",
    "                sent_topics_df = sent_topics_df.append(pd.Series([int(topic_num), round(prop_topic,4), topic_keywords]), ignore_index=True)\n",
    "            else:\n",
    "                break\n",
    "    sent_topics_df.columns = ['Dominant_Topic', 'Perc_Contribution', 'Topic_Keywords']\n",
    "\n",
    "    # Add original text to the end of the output\n",
    "    contents = pd.Series(texts)\n",
    "    sent_topics_df = pd.concat([sent_topics_df, contents], axis=1)\n",
    "    return(sent_topics_df)\n",
    "\n",
    "\n",
    "df_topic_sents_keywords = format_topics_sentences(ldamodel=ldamodel, corpus=corpus_vect, texts=processed_tweets)\n",
    "\n",
    "# Format\n",
    "df_dominant_topic = df_topic_sents_keywords.reset_index()\n",
    "df_dominant_topic.columns = ['Document_No', 'Dominant_Topic', 'Topic_Perc_Contrib', 'Keywords', 'Text']\n",
    "df_dominant_topic.head(10)"
   ]
  },
  {
   "cell_type": "code",
   "execution_count": 245,
   "metadata": {},
   "outputs": [
    {
     "data": {
      "text/html": [
       "<div>\n",
       "<style scoped>\n",
       "    .dataframe tbody tr th:only-of-type {\n",
       "        vertical-align: middle;\n",
       "    }\n",
       "\n",
       "    .dataframe tbody tr th {\n",
       "        vertical-align: top;\n",
       "    }\n",
       "\n",
       "    .dataframe thead th {\n",
       "        text-align: right;\n",
       "    }\n",
       "</style>\n",
       "<table border=\"1\" class=\"dataframe\">\n",
       "  <thead>\n",
       "    <tr style=\"text-align: right;\">\n",
       "      <th></th>\n",
       "      <th>Document_No</th>\n",
       "      <th>Dominant_Topic</th>\n",
       "      <th>Topic_Perc_Contrib</th>\n",
       "      <th>Keywords</th>\n",
       "      <th>Text</th>\n",
       "      <th>Dominant_Topic_Label</th>\n",
       "    </tr>\n",
       "  </thead>\n",
       "  <tbody>\n",
       "    <tr>\n",
       "      <th>0</th>\n",
       "      <td>0</td>\n",
       "      <td>0.0</td>\n",
       "      <td>0.8661</td>\n",
       "      <td>time, mask, patient, pandemic, help, please, safe, look, good, news</td>\n",
       "      <td>[news, apocalypse, near, still, lazy, prayer]</td>\n",
       "      <td>Advisors</td>\n",
       "    </tr>\n",
       "    <tr>\n",
       "      <th>1</th>\n",
       "      <td>1</td>\n",
       "      <td>0.0</td>\n",
       "      <td>0.6174</td>\n",
       "      <td>time, mask, patient, pandemic, help, please, safe, look, good, news</td>\n",
       "      <td>[video, show, south, korea, airport, dealing, spreading]</td>\n",
       "      <td>Advisors</td>\n",
       "    </tr>\n",
       "    <tr>\n",
       "      <th>2</th>\n",
       "      <td>2</td>\n",
       "      <td>2.0</td>\n",
       "      <td>0.6665</td>\n",
       "      <td>singapore, case, first, singaporean, driver, confirmed, thoughtful, grab, new, home</td>\n",
       "      <td>[thomas, never, seen, bullshit]</td>\n",
       "      <td>Local Trackers</td>\n",
       "    </tr>\n",
       "    <tr>\n",
       "      <th>3</th>\n",
       "      <td>3</td>\n",
       "      <td>1.0</td>\n",
       "      <td>0.3963</td>\n",
       "      <td>turkey, evil, world, medical, proud, peace, muhammad, prophet, respond, sent</td>\n",
       "      <td>[chinese, official, photo, new, hospital, building, reverse, image, search, reveals]</td>\n",
       "      <td>Global Citizens</td>\n",
       "    </tr>\n",
       "    <tr>\n",
       "      <th>4</th>\n",
       "      <td>4</td>\n",
       "      <td>0.0</td>\n",
       "      <td>0.7742</td>\n",
       "      <td>time, mask, patient, pandemic, help, please, safe, look, good, news</td>\n",
       "      <td>[spread, worth, share]</td>\n",
       "      <td>Advisors</td>\n",
       "    </tr>\n",
       "  </tbody>\n",
       "</table>\n",
       "</div>"
      ],
      "text/plain": [
       "   Document_No  Dominant_Topic  Topic_Perc_Contrib  \\\n",
       "0            0             0.0              0.8661   \n",
       "1            1             0.0              0.6174   \n",
       "2            2             2.0              0.6665   \n",
       "3            3             1.0              0.3963   \n",
       "4            4             0.0              0.7742   \n",
       "\n",
       "                                                                              Keywords  \\\n",
       "0                  time, mask, patient, pandemic, help, please, safe, look, good, news   \n",
       "1                  time, mask, patient, pandemic, help, please, safe, look, good, news   \n",
       "2  singapore, case, first, singaporean, driver, confirmed, thoughtful, grab, new, home   \n",
       "3         turkey, evil, world, medical, proud, peace, muhammad, prophet, respond, sent   \n",
       "4                  time, mask, patient, pandemic, help, please, safe, look, good, news   \n",
       "\n",
       "                                                                                   Text  \\\n",
       "0                                         [news, apocalypse, near, still, lazy, prayer]   \n",
       "1                              [video, show, south, korea, airport, dealing, spreading]   \n",
       "2                                                       [thomas, never, seen, bullshit]   \n",
       "3  [chinese, official, photo, new, hospital, building, reverse, image, search, reveals]   \n",
       "4                                                                [spread, worth, share]   \n",
       "\n",
       "  Dominant_Topic_Label  \n",
       "0             Advisors  \n",
       "1             Advisors  \n",
       "2       Local Trackers  \n",
       "3      Global Citizens  \n",
       "4             Advisors  "
      ]
     },
     "execution_count": 245,
     "metadata": {},
     "output_type": "execute_result"
    }
   ],
   "source": [
    "# Add the topic labels\n",
    "\n",
    "topic_label = {0.0: 'Advisors',\n",
    "              1.0: 'Global Citizens',\n",
    "              2.0: 'Local Trackers'}\n",
    "\n",
    "df_dominant_topic['Dominant_Topic_Label'] = df_dominant_topic['Dominant_Topic'].apply(lambda x: topic_label[x])\n",
    "df_dominant_topic.head(5)"
   ]
  },
  {
   "cell_type": "code",
   "execution_count": 246,
   "metadata": {},
   "outputs": [
    {
     "data": {
      "text/plain": [
       "[Text(0, 0.5, 'Number of Tweets'), Text(0.5, 0, 'Topics')]"
      ]
     },
     "execution_count": 246,
     "metadata": {},
     "output_type": "execute_result"
    },
    {
     "data": {
      "image/png": "[encoded data removed]",
      "text/plain": [
       "<Figure size 720x360 with 1 Axes>"
      ]
     },
     "metadata": {},
     "output_type": "display_data"
    }
   ],
   "source": [
    "# Visualise contribution of each topics to Reddit Posts on COVID-19\n",
    "\n",
    "#### Plot settings ####\n",
    "style.use('seaborn-poster') #sets the size of the charts\n",
    "style.use('ggplot')\n",
    "matplotlib.rcParams['font.family'] = \"DejaVu Sans\"\n",
    "plt.rcParams['figure.figsize'] = [10, 5]\n",
    "sns.set_context('paper')\n",
    "####\n",
    "\n",
    "\n",
    "# Plot chart\n",
    "ax = sns.countplot(x=\"Dominant_Topic_Label\",\n",
    "                    data=df_dominant_topic,\n",
    "                    order = df_dominant_topic['Dominant_Topic_Label'].value_counts().index,\n",
    "                    palette=(\"Blues_d\"))\n",
    "\n",
    "\n",
    "# Add value labels\n",
    "for p in ax.patches:\n",
    "    ax.annotate(format(p.get_height(), '.0f'), (p.get_x() + p.get_width() / 2., p.get_height()), ha = 'center', va = 'center', xytext = (0, 10), textcoords = 'offset points')\n",
    "\n",
    "    \n",
    "# Change width of bars\n",
    "# def change_width(ax, new_value) :\n",
    "#     for patch in ax.patches :\n",
    "#         current_width = patch.get_width()\n",
    "#         diff = current_width - new_value\n",
    "\n",
    "#         # we change the bar width\n",
    "#         patch.set_width(new_value)\n",
    "\n",
    "#         # we recenter the bar\n",
    "#         patch.set_x(patch.get_x() + diff * .5)\n",
    "# change_width(ax, .60)\n",
    "\n",
    "\n",
    "# Add axis labels\n",
    "ax.set(xlabel='Topics', ylabel='Number of Tweets')\n",
    "\n",
    "\n",
    "# plt.savefig('twitter_topic_contribution.png', dpi=400, transparent=True, bbox_inches=\"tight\")"
   ]
  },
  {
   "cell_type": "markdown",
   "metadata": {},
   "source": [
    "#### Get The Most Representative Sentence Of Each Topic"
   ]
  },
  {
   "cell_type": "code",
   "execution_count": 258,
   "metadata": {},
   "outputs": [
    {
     "data": {
      "text/html": [
       "<div>\n",
       "<style scoped>\n",
       "    .dataframe tbody tr th:only-of-type {\n",
       "        vertical-align: middle;\n",
       "    }\n",
       "\n",
       "    .dataframe tbody tr th {\n",
       "        vertical-align: top;\n",
       "    }\n",
       "\n",
       "    .dataframe thead th {\n",
       "        text-align: right;\n",
       "    }\n",
       "</style>\n",
       "<table border=\"1\" class=\"dataframe\">\n",
       "  <thead>\n",
       "    <tr style=\"text-align: right;\">\n",
       "      <th></th>\n",
       "      <th>Topic_Num</th>\n",
       "      <th>Topic_Perc_Contrib</th>\n",
       "      <th>Keywords</th>\n",
       "      <th>Representative Text</th>\n",
       "    </tr>\n",
       "  </thead>\n",
       "  <tbody>\n",
       "    <tr>\n",
       "      <th>0</th>\n",
       "      <td>0.0</td>\n",
       "      <td>0.9623</td>\n",
       "      <td>time, mask, patient, pandemic, help, please, safe, look, good, news</td>\n",
       "      <td>[wearing, surgical, mask, help, prevent, flu, spreading, youre, well, considerate, wear, mask, w...</td>\n",
       "    </tr>\n",
       "    <tr>\n",
       "      <th>1</th>\n",
       "      <td>1.0</td>\n",
       "      <td>0.9675</td>\n",
       "      <td>turkey, evil, world, medical, proud, peace, muhammad, prophet, respond, sent</td>\n",
       "      <td>[closed, entire, country, placed, citizen, martial, law, refused, tell, world, chinese, bio, mil...</td>\n",
       "    </tr>\n",
       "    <tr>\n",
       "      <th>2</th>\n",
       "      <td>2.0</td>\n",
       "      <td>0.9618</td>\n",
       "      <td>singapore, case, first, singaporean, driver, confirmed, thoughtful, grab, new, home</td>\n",
       "      <td>[singapore, report, four, case, bringing, total, number, case, three, singapore, citizen, linked...</td>\n",
       "    </tr>\n",
       "  </tbody>\n",
       "</table>\n",
       "</div>"
      ],
      "text/plain": [
       "   Topic_Num  Topic_Perc_Contrib  \\\n",
       "0        0.0              0.9623   \n",
       "1        1.0              0.9675   \n",
       "2        2.0              0.9618   \n",
       "\n",
       "                                                                              Keywords  \\\n",
       "0                  time, mask, patient, pandemic, help, please, safe, look, good, news   \n",
       "1         turkey, evil, world, medical, proud, peace, muhammad, prophet, respond, sent   \n",
       "2  singapore, case, first, singaporean, driver, confirmed, thoughtful, grab, new, home   \n",
       "\n",
       "                                                                                   Representative Text  \n",
       "0  [wearing, surgical, mask, help, prevent, flu, spreading, youre, well, considerate, wear, mask, w...  \n",
       "1  [closed, entire, country, placed, citizen, martial, law, refused, tell, world, chinese, bio, mil...  \n",
       "2  [singapore, report, four, case, bringing, total, number, case, three, singapore, citizen, linked...  "
      ]
     },
     "execution_count": 258,
     "metadata": {},
     "output_type": "execute_result"
    }
   ],
   "source": [
    "# Display setting to show more characters in column\n",
    "pd.options.display.max_colwidth = 100\n",
    "\n",
    "sent_topics_sorteddf = pd.DataFrame()\n",
    "sent_topics_outdf_grpd = df_topic_sents_keywords.groupby('Dominant_Topic')\n",
    "\n",
    "for i, grp in sent_topics_outdf_grpd:\n",
    "    sent_topics_sorteddf = pd.concat([sent_topics_sorteddf, \n",
    "                                             grp.sort_values(['Perc_Contribution'], ascending=False).head(1)], \n",
    "                                            axis=0)\n",
    "\n",
    "# Reset Index    \n",
    "sent_topics_sorteddf.reset_index(drop=True, inplace=True)\n",
    "\n",
    "# Format\n",
    "sent_topics_sorteddf.columns = ['Topic_Num', \"Topic_Perc_Contrib\", \"Keywords\", \"Representative Text\"]\n",
    "\n",
    "# Show\n",
    "sent_topics_sorteddf.head(10)"
   ]
  },
  {
   "cell_type": "code",
   "execution_count": null,
   "metadata": {},
   "outputs": [],
   "source": [
    "# Retrieve the representative tweet for topic 0 -- Advisors Conversation Group\n",
    "\n",
    "topic0_reptext = sent_topics_sorteddf['Representative Text'][0]\n",
    "topic0_index = processed_tweets.index(topic0_reptext)\n",
    "\n",
    "topic0_reptweet = tweets_df.iloc[topic0_index]\n",
    "topic0_reptweet"
   ]
  },
  {
   "cell_type": "code",
   "execution_count": null,
   "metadata": {},
   "outputs": [],
   "source": [
    "# Retrieve the representative tweet for topic 1 -- Global Citizens Conversation Group\n",
    "\n",
    "topic1_reptext = sent_topics_sorteddf['Representative Text'][1]\n",
    "topic1_index = processed_tweets.index(topic1_reptext)\n",
    "\n",
    "topic1_reptweet = tweets_df.iloc[topic1_index]\n",
    "topic1_reptweet"
   ]
  },
  {
   "cell_type": "code",
   "execution_count": 262,
   "metadata": {},
   "outputs": [
    {
     "data": {
      "text/plain": [
       "username                                                                                                       deweysim\n",
       "text                b'Singapore reports four more cases of the #CoronavirusOutbreak, bringing total number of cases ...\n",
       "date                                                                                                         2020-02-05\n",
       "processed_tweets    Singapore reports four more cases of the CoronavirusOutbreak bringing total number of cases to 2...\n",
       "Name: 5494, dtype: object"
      ]
     },
     "execution_count": 262,
     "metadata": {},
     "output_type": "execute_result"
    }
   ],
   "source": [
    "# Retrieve the representative tweet for topic 2 -- Local Trackers Conversation Group\n",
    "\n",
    "topic2_reptext = sent_topics_sorteddf['Representative Text'][2]\n",
    "topic2_index = processed_tweets.index(topic2_reptext)\n",
    "\n",
    "topic2_reptweet = tweets_df.iloc[topic2_index]\n",
    "topic2_reptweet"
   ]
  },
  {
   "cell_type": "markdown",
   "metadata": {},
   "source": [
    "#### Visualise Model"
   ]
  },
  {
   "cell_type": "code",
   "execution_count": 251,
   "metadata": {},
   "outputs": [],
   "source": [
    "import pyLDAvis.gensim"
   ]
  },
  {
   "cell_type": "code",
   "execution_count": 252,
   "metadata": {},
   "outputs": [
    {
     "name": "stderr",
     "output_type": "stream",
     "text": [
      "C:\\Users\\Xiao Rong\\Anaconda3\\lib\\site-packages\\pyLDAvis\\_prepare.py:257: FutureWarning: Sorting because non-concatenation axis is not aligned. A future version\n",
      "of pandas will change to not sort by default.\n",
      "\n",
      "To accept the future behavior, pass 'sort=False'.\n",
      "\n",
      "To retain the current behavior and silence the warning, pass 'sort=True'.\n",
      "\n",
      "  return pd.concat([default_term_info] + list(topic_dfs))\n"
     ]
    }
   ],
   "source": [
    "pyLDAvis.enable_notebook()\n",
    "p = pyLDAvis.gensim.prepare(ldamodel, corpus_vect, dictionary)"
   ]
  },
  {
   "cell_type": "code",
   "execution_count": 253,
   "metadata": {},
   "outputs": [
    {
     "data": {
      "text/html": [
       "\n",
       "<link rel=\"stylesheet\" type=\"text/css\" href=\"https://cdn.rawgit.com/bmabey/pyLDAvis/files/ldavis.v1.0.0.css\">\n",
       "\n",
       "\n",
       "<div id=\"ldavis_el1920821121218957523818232066\"></div>\n",
       "<script type=\"text/javascript\">\n",
       "\n",
       "var ldavis_el1920821121218957523818232066_data = {\"mdsDat\": {\"x\": [-0.20135297940741861, -0.16106273269873136, 0.3624157121061498], \"y\": [0.2649655873943986, -0.28535903241850424, 0.020393445024105655], \"topics\": [1, 2, 3], \"cluster\": [1, 1, 1], \"Freq\": [37.486751556396484, 33.12500762939453, 29.388242721557617]}, \"tinfo\": {\"Category\": [\"Default\", \"Default\", \"Default\", \"Default\", \"Default\", \"Default\", \"Default\", \"Default\", \"Default\", \"Default\", \"Default\", \"Default\", \"Default\", \"Default\", \"Default\", \"Default\", \"Default\", \"Default\", \"Default\", \"Default\", \"Default\", \"Default\", \"Default\", \"Default\", \"Default\", \"Default\", \"Default\", \"Default\", \"Default\", \"Default\", \"Topic1\", \"Topic1\", \"Topic1\", \"Topic1\", \"Topic1\", \"Topic1\", \"Topic1\", \"Topic1\", \"Topic1\", \"Topic1\", \"Topic1\", \"Topic1\", \"Topic1\", \"Topic1\", \"Topic1\", \"Topic1\", \"Topic1\", \"Topic1\", \"Topic1\", \"Topic1\", \"Topic1\", \"Topic1\", \"Topic1\", \"Topic1\", \"Topic1\", \"Topic1\", \"Topic1\", \"Topic1\", \"Topic1\", \"Topic1\", \"Topic1\", \"Topic1\", \"Topic1\", \"Topic1\", \"Topic1\", \"Topic1\", \"Topic1\", \"Topic1\", \"Topic2\", \"Topic2\", \"Topic2\", \"Topic2\", \"Topic2\", \"Topic2\", \"Topic2\", \"Topic2\", \"Topic2\", \"Topic2\", \"Topic2\", \"Topic2\", \"Topic2\", \"Topic2\", \"Topic2\", \"Topic2\", \"Topic2\", \"Topic2\", \"Topic2\", \"Topic2\", \"Topic2\", \"Topic2\", \"Topic2\", \"Topic2\", \"Topic2\", \"Topic2\", \"Topic2\", \"Topic2\", \"Topic2\", \"Topic2\", \"Topic2\", \"Topic2\", \"Topic2\", \"Topic2\", \"Topic2\", \"Topic2\", \"Topic2\", \"Topic2\", \"Topic3\", \"Topic3\", \"Topic3\", \"Topic3\", \"Topic3\", \"Topic3\", \"Topic3\", \"Topic3\", \"Topic3\", \"Topic3\", \"Topic3\", \"Topic3\", \"Topic3\", \"Topic3\", \"Topic3\", \"Topic3\", \"Topic3\", \"Topic3\", \"Topic3\", \"Topic3\", \"Topic3\", \"Topic3\", \"Topic3\", \"Topic3\", \"Topic3\", \"Topic3\", \"Topic3\", \"Topic3\", \"Topic3\", \"Topic3\", \"Topic3\", \"Topic3\", \"Topic3\", \"Topic3\", \"Topic3\"], \"Freq\": [847.0, 637.0, 503.0, 451.0, 430.0, 356.0, 300.0, 296.0, 278.0, 278.0, 310.0, 241.0, 236.0, 292.0, 228.0, 221.0, 219.0, 269.0, 263.0, 256.0, 252.0, 199.0, 196.0, 204.0, 206.0, 185.0, 177.0, 135.0, 150.0, 394.0, 846.3682861328125, 636.3004760742188, 309.78094482421875, 291.802490234375, 269.02197265625, 263.03179931640625, 256.12908935546875, 251.84469604492188, 184.46035766601562, 177.21002197265625, 206.06497192382812, 142.8501434326172, 124.96646881103516, 129.09774780273438, 124.79440307617188, 107.42656707763672, 85.42820739746094, 92.51744842529297, 82.01116180419922, 81.52706146240234, 84.47880554199219, 152.64425659179688, 79.74767303466797, 78.52265167236328, 90.94523620605469, 73.9156494140625, 63.317081451416016, 65.54315185546875, 60.9517707824707, 59.823997497558594, 66.55917358398438, 69.38526153564453, 254.80490112304688, 140.3729705810547, 149.0077667236328, 87.34007263183594, 97.24108123779297, 103.66024780273438, 203.606201171875, 149.59555053710938, 142.5887451171875, 127.11687469482422, 114.12779998779297, 120.40718078613281, 120.06375122070312, 122.91255950927734, 103.92264556884766, 95.13471984863281, 95.98705291748047, 106.10379791259766, 91.850830078125, 94.19252014160156, 87.55889892578125, 86.51152038574219, 97.873291015625, 86.02545166015625, 77.28336334228516, 73.47865295410156, 76.23757934570312, 72.05657196044922, 70.43814849853516, 72.36011505126953, 67.8526382446289, 68.35417175292969, 65.86048889160156, 62.462806701660156, 64.26242065429688, 66.7505111694336, 177.7512664794922, 131.66748046875, 199.4091339111328, 109.82951354980469, 105.18489837646484, 104.47013854980469, 78.08904266357422, 73.74910736083984, 502.69366455078125, 451.10528564453125, 430.1482849121094, 356.1351623535156, 300.0758361816406, 296.2802734375, 277.89263916015625, 277.89263916015625, 240.98936462402344, 236.13665771484375, 227.521240234375, 220.97366333007812, 218.7909698486328, 195.6718292236328, 198.85330200195312, 134.47805786132812, 96.255859375, 98.88033294677734, 125.48001098632812, 93.94694519042969, 88.24881744384766, 85.28306579589844, 80.53346252441406, 70.685791015625, 77.0024185180664, 75.7885971069336, 70.36295318603516, 69.91934204101562, 69.693603515625, 55.17185592651367, 60.43894577026367, 172.43470764160156, 138.9381561279297, 93.227783203125, 95.44493103027344], \"Term\": [\"singapore\", \"case\", \"turkey\", \"evil\", \"world\", \"medical\", \"proud\", \"peace\", \"muhammad\", \"prophet\", \"first\", \"respond\", \"sent\", \"singaporean\", \"aid\", \"islam\", \"htt\", \"driver\", \"confirmed\", \"thoughtful\", \"new\", \"day\", \"hospital\", \"time\", \"home\", \"local\", \"infected\", \"italy\", \"pandemic\", \"grab\", \"singapore\", \"case\", \"first\", \"singaporean\", \"driver\", \"confirmed\", \"thoughtful\", \"new\", \"local\", \"infected\", \"home\", \"breaking\", \"including\", \"government\", \"number\", \"quarantine\", \"tran\", \"today\", \"transmission\", \"malaysia\", \"infection\", \"death\", \"report\", \"business\", \"work\", \"say\", \"here\", \"back\", \"bad\", \"feb\", \"crisis\", \"impact\", \"grab\", \"health\", \"chinese\", \"2020\", \"life\", \"stay\", \"time\", \"pandemic\", \"help\", \"safe\", \"mean\", \"good\", \"news\", \"look\", \"take\", \"icu\", \"couple\", \"positive\", \"elderly\", \"social\", \"goodbye\", \"80\", \"latest\", \"hand\", \"well\", \"distancing\", \"keep\", \"everyone\", \"another\", \"fear\", \"use\", \"read\", \"test\", \"let\", \"thing\", \"make\", \"patient\", \"please\", \"mask\", \"spread\", \"country\", \"stay\", \"travel\", \"still\", \"turkey\", \"evil\", \"world\", \"medical\", \"proud\", \"peace\", \"prophet\", \"muhammad\", \"respond\", \"sent\", \"aid\", \"islam\", \"htt\", \"hospital\", \"day\", \"italy\", \"train\", \"cause\", \"due\", \"woman\", \"concern\", \"late\", \"taxi\", \"warned\", \"hong\", \"kong\", \"province\", \"hubei\", \"watch\", \"comment\", \"closed\", \"chinese\", \"grab\", \"video\", \"mask\"], \"Total\": [847.0, 637.0, 503.0, 451.0, 430.0, 356.0, 300.0, 296.0, 278.0, 278.0, 310.0, 241.0, 236.0, 292.0, 228.0, 221.0, 219.0, 269.0, 263.0, 256.0, 252.0, 199.0, 196.0, 204.0, 206.0, 185.0, 177.0, 135.0, 150.0, 394.0, 847.1099243164062, 637.0118408203125, 310.4953918457031, 292.4916687011719, 269.7120361328125, 263.7269592285156, 256.8146057128906, 252.5648651123047, 185.1566925048828, 177.93170166015625, 206.94549560546875, 143.54922485351562, 125.66254425048828, 129.86648559570312, 125.54890441894531, 108.22643280029297, 86.1124496459961, 93.26173400878906, 82.72583770751953, 82.2479248046875, 85.2291259765625, 154.05650329589844, 80.50518798828125, 79.28878784179688, 91.84262084960938, 74.66675567626953, 64.04500579833984, 66.29830169677734, 61.655128479003906, 60.54159927368164, 67.37104797363281, 70.33377838134766, 394.03863525390625, 209.01739501953125, 321.76019287109375, 115.83859252929688, 146.64373779296875, 208.53016662597656, 204.37005615234375, 150.37493896484375, 143.4145050048828, 127.86339569091797, 114.85009002685547, 121.17220306396484, 120.83458709716797, 123.70864868164062, 104.69448852539062, 95.85643005371094, 96.72198486328125, 106.92346954345703, 92.57109069824219, 94.94087219238281, 88.27816009521484, 87.23033142089844, 98.71173095703125, 86.76783752441406, 78.05653381347656, 74.21797180175781, 77.02064514160156, 72.80760955810547, 71.17788696289062, 73.14974975585938, 68.59571075439453, 69.11451721191406, 66.60980224609375, 63.20149612426758, 65.03184509277344, 67.55493927001953, 247.8231658935547, 169.1572265625, 295.2142333984375, 161.34817504882812, 208.53077697753906, 208.53016662597656, 106.95895385742188, 92.16046905517578, 503.31854248046875, 451.7313232421875, 430.8401794433594, 356.78924560546875, 300.7081604003906, 296.90692138671875, 278.517578125, 278.517578125, 241.61880493164062, 236.76458740234375, 228.14637756347656, 221.5981903076172, 219.41888427734375, 196.34706115722656, 199.56398010253906, 135.22767639160156, 96.88632202148438, 99.54167175292969, 126.36143493652344, 94.61443328857422, 88.9019775390625, 85.93384552001953, 81.17098236083984, 71.31088256835938, 77.69544219970703, 76.47779083251953, 71.03804016113281, 70.65188598632812, 70.4614028930664, 55.80839157104492, 61.15996170043945, 321.76019287109375, 394.03863525390625, 171.9005126953125, 295.2142333984375], \"loglift\": [30.0, 29.0, 28.0, 27.0, 26.0, 25.0, 24.0, 23.0, 22.0, 21.0, 20.0, 19.0, 18.0, 17.0, 16.0, 15.0, 14.0, 13.0, 12.0, 11.0, 10.0, 9.0, 8.0, 7.0, 6.0, 5.0, 4.0, 3.0, 2.0, 1.0, 0.9803000092506409, 0.9800999760627747, 0.9789000153541565, 0.9787999987602234, 0.978600025177002, 0.9785000085830688, 0.9785000085830688, 0.9782999753952026, 0.977400004863739, 0.9771000146865845, 0.9768999814987183, 0.9763000011444092, 0.975600004196167, 0.9751999974250793, 0.9751999974250793, 0.973800003528595, 0.9732000231742859, 0.9732000231742859, 0.9725000262260437, 0.9724000096321106, 0.9722999930381775, 0.972000002861023, 0.9717000126838684, 0.9714999794960022, 0.9714000225067139, 0.9710999727249146, 0.9697999954223633, 0.9696999788284302, 0.9696999788284302, 0.9692999720573425, 0.9690999984741211, 0.9675999879837036, 0.545199990272522, 0.5831000208854675, 0.21140000224113464, 0.6988000273704529, 0.5703999996185303, 0.28220000863075256, 1.101099967956543, 1.0996999740600586, 1.0990999937057495, 1.0989999771118164, 1.0986000299453735, 1.0985000133514404, 1.0985000133514404, 1.0983999967575073, 1.097499966621399, 1.0973000526428223, 1.0973000526428223, 1.0972000360488892, 1.097100019454956, 1.097000002861023, 1.0966999530792236, 1.09660005569458, 1.0964000225067139, 1.0963000059127808, 1.0949000120162964, 1.0949000120162964, 1.0946999788284302, 1.094499945640564, 1.0944000482559204, 1.093999981880188, 1.093999981880188, 1.0937999486923218, 1.0936000347137451, 1.0930999517440796, 1.093000054359436, 1.092900037765503, 0.772599995136261, 0.8543000221252441, 0.7124999761581421, 0.7202000021934509, 0.4205000102519989, 0.41370001435279846, 0.7903000116348267, 0.8820000290870667, 1.2232999801635742, 1.2231999635696411, 1.2230000495910645, 1.2226999998092651, 1.222499966621399, 1.222499966621399, 1.2223000526428223, 1.2223000526428223, 1.222000002861023, 1.2218999862670898, 1.2217999696731567, 1.2217999696731567, 1.2216999530792236, 1.2210999727249146, 1.2209999561309814, 1.218999981880188, 1.218000054359436, 1.217900037765503, 1.2175999879837036, 1.2174999713897705, 1.2172000408172607, 1.2170000076293945, 1.2166999578475952, 1.2158000469207764, 1.2156000137329102, 1.215499997138977, 1.215000033378601, 1.2142000198364258, 1.2136000394821167, 1.2130999565124512, 1.2127000093460083, 0.6007999777793884, 0.18219999969005585, 0.6126999855041504, 0.09539999812841415], \"logprob\": [30.0, 29.0, 28.0, 27.0, 26.0, 25.0, 24.0, 23.0, 22.0, 21.0, 20.0, 19.0, 18.0, 17.0, 16.0, 15.0, 14.0, 13.0, 12.0, 11.0, 10.0, 9.0, 8.0, 7.0, 6.0, 5.0, 4.0, 3.0, 2.0, 1.0, -2.6219000816345215, -2.9072000980377197, -3.627000093460083, -3.686800003051758, -3.7681000232696533, -3.790600061416626, -3.817199945449829, -3.8341000080108643, -4.145400047302246, -4.185500144958496, -4.0346999168396, -4.401100158691406, -4.534800052642822, -4.502299785614014, -4.536200046539307, -4.686100006103516, -4.915200233459473, -4.8354997634887695, -4.955999851226807, -4.961900234222412, -4.926400184631348, -4.334799766540527, -4.984000205993652, -4.999499797821045, -4.85260009765625, -5.059999942779541, -5.214700222015381, -5.180200099945068, -5.252799987792969, -5.271500110626221, -5.16480016708374, -5.123199939727783, -3.8224000930786133, -4.418600082397461, -4.35890007019043, -4.893099784851074, -4.785699844360352, -4.721799850463867, -3.9230000972747803, -4.231200218200684, -4.279200077056885, -4.394100189208984, -4.5019001960754395, -4.448299884796143, -4.451200008392334, -4.427700042724609, -4.5954999923706055, -4.683899879455566, -4.675000190734863, -4.57480001449585, -4.718999862670898, -4.69379997253418, -4.766900062561035, -4.778900146484375, -4.6554999351501465, -4.7845001220703125, -4.89169979095459, -4.942200183868408, -4.905300140380859, -4.961699962615967, -4.984399795532227, -4.957499980926514, -5.0218000411987305, -5.014500141143799, -5.051599979400635, -5.104599952697754, -5.076200008392334, -5.0381999015808105, -4.058800220489502, -4.35890007019043, -3.9437999725341797, -4.540200233459473, -4.583499908447266, -4.5903000831604, -4.88129997253418, -4.938499927520752, -2.8994998931884766, -3.0078001022338867, -3.0553998947143555, -3.2441999912261963, -3.4154000282287598, -3.4282000064849854, -3.4921998977661133, -3.4921998977661133, -3.634700059890747, -3.655100107192993, -3.692199945449829, -3.721400022506714, -3.7314000129699707, -3.8429999351501465, -3.826900005340576, -4.218100070953369, -4.552499771118164, -4.525599956512451, -4.287300109863281, -4.5767998695373535, -4.6392998695373535, -4.673500061035156, -4.730800151824951, -4.861199855804443, -4.775599956512451, -4.791500091552734, -4.865799903869629, -4.872099876403809, -4.875400066375732, -5.109000205993652, -5.0177998542785645, -3.9695000648498535, -4.185500144958496, -4.584400177001953, -4.5609002113342285]}, \"token.table\": {\"Topic\": [1, 2, 2, 3, 2, 1, 1, 1, 1, 1, 3, 1, 3, 3, 3, 3, 1, 1, 2, 3, 2, 1, 3, 1, 3, 2, 1, 1, 3, 2, 2, 3, 2, 1, 1, 2, 2, 1, 1, 3, 2, 1, 2, 2, 1, 1, 3, 3, 3, 3, 2, 1, 3, 1, 1, 1, 3, 3, 2, 3, 3, 2, 2, 1, 2, 1, 2, 2, 1, 2, 3, 2, 3, 3, 1, 2, 1, 2, 1, 2, 3, 1, 2, 2, 3, 3, 3, 1, 2, 1, 3, 2, 1, 3, 1, 1, 2, 1, 2, 1, 2, 1, 2, 2, 3, 2, 2, 1, 2, 1, 3, 1, 1, 1, 2, 3, 2, 1, 3, 3, 3, 2, 3, 1, 3], \"Freq\": [0.7510450482368469, 0.24171563982963562, 0.9973595142364502, 0.9993584156036377, 0.9834514856338501, 0.9955006241798401, 0.9893742799758911, 0.9961739778518677, 0.996357798576355, 0.9984115958213806, 0.9945583343505859, 0.4630777835845947, 0.5345596075057983, 0.981033980846405, 0.9855148792266846, 0.9898542761802673, 0.9972435235977173, 0.3117045760154724, 0.5035228133201599, 0.18222729861736298, 0.9925354719161987, 0.9944924712181091, 0.9971739649772644, 0.9931421279907227, 0.0064911250956356525, 0.983589231967926, 0.9973599910736084, 0.007913806475698948, 0.9892258644104004, 0.9938308000564575, 0.9889076352119446, 0.9983810782432556, 0.9842822551727295, 0.991054117679596, 0.9984045028686523, 0.9903261661529541, 0.9968490600585938, 0.9933278560638428, 0.6471446752548218, 0.3527572751045227, 0.9911506772041321, 0.6698006987571716, 0.32533177733421326, 0.9971097707748413, 0.9836832880973816, 0.9954311847686768, 0.9910491108894348, 0.9982324242591858, 0.998090922832489, 0.9907732605934143, 0.991065502166748, 0.9810364246368408, 0.014217919670045376, 0.994727611541748, 0.9947637319564819, 0.9855785965919495, 0.9973005652427673, 0.9909214377403259, 0.9867483973503113, 0.9937525391578674, 0.9891330003738403, 0.9927898049354553, 0.9809894561767578, 0.6614670753479004, 0.33414313197135925, 0.9937528967857361, 0.9942716360092163, 0.9917853474617004, 0.9969856142997742, 0.6740867495536804, 0.32180020213127136, 0.9925982356071472, 0.9977878928184509, 0.9981416463851929, 0.9977635145187378, 0.9930931329727173, 0.9956279397010803, 0.9975066184997559, 0.28245946764945984, 0.7182540893554688, 0.9969454407691956, 0.21873141825199127, 0.7803391218185425, 0.9913632869720459, 0.9981416463851929, 0.9976450204849243, 0.9853875637054443, 0.988667905330658, 0.9838743209838867, 0.9937247633934021, 0.997438907623291, 0.9932475090026855, 0.9910702705383301, 0.9967706799507141, 0.9986897706985474, 0.9983190298080444, 0.9900898933410645, 0.31608662009239197, 0.6817554831504822, 0.49872881174087524, 0.49872881174087524, 0.1953115016222, 0.8029472827911377, 0.993366539478302, 0.9978935718536377, 0.9908451437950134, 0.984133243560791, 0.996828019618988, 0.9981892704963684, 0.9971935749053955, 0.9908519387245178, 0.9870814085006714, 0.9912259578704834, 0.2617826759815216, 0.7292516827583313, 0.9993671178817749, 0.9913156032562256, 0.4537508189678192, 0.5410106182098389, 0.9956404566764832, 0.993451714515686, 0.9864645004272461, 0.9935058951377869, 0.990825355052948, 0.9980499148368835], \"Term\": [\"2020\", \"2020\", \"80\", \"aid\", \"another\", \"back\", \"bad\", \"breaking\", \"business\", \"case\", \"cause\", \"chinese\", \"chinese\", \"closed\", \"comment\", \"concern\", \"confirmed\", \"country\", \"country\", \"country\", \"couple\", \"crisis\", \"day\", \"death\", \"death\", \"distancing\", \"driver\", \"due\", \"due\", \"elderly\", \"everyone\", \"evil\", \"fear\", \"feb\", \"first\", \"good\", \"goodbye\", \"government\", \"grab\", \"grab\", \"hand\", \"health\", \"health\", \"help\", \"here\", \"home\", \"hong\", \"hospital\", \"htt\", \"hubei\", \"icu\", \"impact\", \"impact\", \"including\", \"infected\", \"infection\", \"islam\", \"italy\", \"keep\", \"kong\", \"late\", \"latest\", \"let\", \"life\", \"life\", \"local\", \"look\", \"make\", \"malaysia\", \"mask\", \"mask\", \"mean\", \"medical\", \"muhammad\", \"new\", \"news\", \"number\", \"pandemic\", \"patient\", \"patient\", \"peace\", \"please\", \"please\", \"positive\", \"prophet\", \"proud\", \"province\", \"quarantine\", \"read\", \"report\", \"respond\", \"safe\", \"say\", \"sent\", \"singapore\", \"singaporean\", \"social\", \"spread\", \"spread\", \"stay\", \"stay\", \"still\", \"still\", \"take\", \"taxi\", \"test\", \"thing\", \"thoughtful\", \"time\", \"today\", \"train\", \"tran\", \"transmission\", \"travel\", \"travel\", \"turkey\", \"use\", \"video\", \"video\", \"warned\", \"watch\", \"well\", \"woman\", \"work\", \"world\"]}, \"R\": 30, \"lambda.step\": 0.01, \"plot.opts\": {\"xlab\": \"PC1\", \"ylab\": \"PC2\"}, \"topic.order\": [3, 1, 2]};\n",
       "\n",
       "function LDAvis_load_lib(url, callback){\n",
       "  var s = document.createElement('script');\n",
       "  s.src = url;\n",
       "  s.async = true;\n",
       "  s.onreadystatechange = s.onload = callback;\n",
       "  s.onerror = function(){console.warn(\"failed to load library \" + url);};\n",
       "  document.getElementsByTagName(\"head\")[0].appendChild(s);\n",
       "}\n",
       "\n",
       "if(typeof(LDAvis) !== \"undefined\"){\n",
       "   // already loaded: just create the visualization\n",
       "   !function(LDAvis){\n",
       "       new LDAvis(\"#\" + \"ldavis_el1920821121218957523818232066\", ldavis_el1920821121218957523818232066_data);\n",
       "   }(LDAvis);\n",
       "}else if(typeof define === \"function\" && define.amd){\n",
       "   // require.js is available: use it to load d3/LDAvis\n",
       "   require.config({paths: {d3: \"https://cdnjs.cloudflare.com/ajax/libs/d3/3.5.5/d3.min\"}});\n",
       "   require([\"d3\"], function(d3){\n",
       "      window.d3 = d3;\n",
       "      LDAvis_load_lib(\"https://cdn.rawgit.com/bmabey/pyLDAvis/files/ldavis.v1.0.0.js\", function(){\n",
       "        new LDAvis(\"#\" + \"ldavis_el1920821121218957523818232066\", ldavis_el1920821121218957523818232066_data);\n",
       "      });\n",
       "    });\n",
       "}else{\n",
       "    // require.js not available: dynamically load d3 & LDAvis\n",
       "    LDAvis_load_lib(\"https://cdnjs.cloudflare.com/ajax/libs/d3/3.5.5/d3.min.js\", function(){\n",
       "         LDAvis_load_lib(\"https://cdn.rawgit.com/bmabey/pyLDAvis/files/ldavis.v1.0.0.js\", function(){\n",
       "                 new LDAvis(\"#\" + \"ldavis_el1920821121218957523818232066\", ldavis_el1920821121218957523818232066_data);\n",
       "            })\n",
       "         });\n",
       "}\n",
       "</script>"
      ],
      "text/plain": [
       "PreparedData(topic_coordinates=              x         y  topics  cluster       Freq\n",
       "topic                                                \n",
       "2     -0.201353  0.264966       1        1  37.486752\n",
       "0     -0.161063 -0.285359       2        1  33.125008\n",
       "1      0.362416  0.020393       3        1  29.388243, topic_info=    Category        Freq       Term       Total  loglift  logprob\n",
       "117  Default  847.000000  singapore  847.000000  30.0000  30.0000\n",
       "108  Default  637.000000       case  637.000000  29.0000  29.0000\n",
       "452  Default  503.000000     turkey  503.000000  28.0000  28.0000\n",
       "413  Default  451.000000       evil  451.000000  27.0000  27.0000\n",
       "147  Default  430.000000      world  430.000000  26.0000  26.0000\n",
       "..       ...         ...        ...         ...      ...      ...\n",
       "236   Topic3   60.438946     closed   61.159962   1.2127  -5.0178\n",
       "11    Topic3  172.434708    chinese  321.760193   0.6008  -3.9695\n",
       "441   Topic3  138.938156       grab  394.038635   0.1822  -4.1855\n",
       "9     Topic3   93.227783      video  171.900513   0.6127  -4.5844\n",
       "80    Topic3   95.444931       mask  295.214233   0.0954  -4.5609\n",
       "\n",
       "[141 rows x 6 columns], token_table=      Topic      Freq     Term\n",
       "term                          \n",
       "221       1  0.751045     2020\n",
       "221       2  0.241716     2020\n",
       "444       2  0.997360       80\n",
       "450       3  0.999358      aid\n",
       "193       2  0.983451  another\n",
       "...     ...       ...      ...\n",
       "130       3  0.993452    watch\n",
       "319       2  0.986465     well\n",
       "343       3  0.993506    woman\n",
       "273       1  0.990825     work\n",
       "147       3  0.998050    world\n",
       "\n",
       "[125 rows x 3 columns], R=30, lambda_step=0.01, plot_opts={'xlab': 'PC1', 'ylab': 'PC2'}, topic_order=[3, 1, 2])"
      ]
     },
     "execution_count": 253,
     "metadata": {},
     "output_type": "execute_result"
    }
   ],
   "source": [
    "# Show visualisation\n",
    "p"
   ]
  },
  {
   "cell_type": "code",
   "execution_count": 254,
   "metadata": {},
   "outputs": [],
   "source": [
    "# Save visualisation to html page\n",
    "# pyLDAvis.save_html(p, 'twitter_lda.html')"
   ]
  },
  {
   "cell_type": "markdown",
   "metadata": {},
   "source": [
    "### Finalise Model with Pickle"
   ]
  },
  {
   "cell_type": "code",
   "execution_count": 255,
   "metadata": {},
   "outputs": [],
   "source": [
    "import pickle\n",
    "\n",
    "#save model to disk\n",
    "# pickle.dump(ldamodel, open(\"twitter_lda\", \"wb\"))"
   ]
  },
  {
   "cell_type": "code",
   "execution_count": null,
   "metadata": {},
   "outputs": [],
   "source": [
    "#load model from disk\n",
    "ldamodel = pickle.load(open(\"twitter_lda2\", 'rb'))\n",
    "for num ,topic in ldamodel.show_topics(formatted=True, num_topics=num_topics, num_words=10):\n",
    "    print(str(num)+\": \"+ topic)"
   ]
  },
  {
   "cell_type": "markdown",
   "metadata": {},
   "source": [
    "### Save & Restore Notebook Session"
   ]
  },
  {
   "cell_type": "code",
   "execution_count": null,
   "metadata": {},
   "outputs": [],
   "source": [
    "# !pip install dill"
   ]
  },
  {
   "cell_type": "code",
   "execution_count": 256,
   "metadata": {},
   "outputs": [],
   "source": [
    "import dill"
   ]
  },
  {
   "cell_type": "code",
   "execution_count": 257,
   "metadata": {},
   "outputs": [],
   "source": [
    "#save notebook session\n",
    "dill.dump_session('twitter_lda.db')"
   ]
  },
  {
   "cell_type": "code",
   "execution_count": null,
   "metadata": {},
   "outputs": [],
   "source": [
    "#restore notebook session\n",
    "dill.load_session('twitter_lda.db')"
   ]
  }
 ],
 "metadata": {
  "kernelspec": {
   "display_name": "Python 3",
   "language": "python",
   "name": "python3"
  },
  "language_info": {
   "codemirror_mode": {
    "name": "ipython",
    "version": 3
   },
   "file_extension": ".py",
   "mimetype": "text/x-python",
   "name": "python",
   "nbconvert_exporter": "python",
   "pygments_lexer": "ipython3",
   "version": "3.7.6"
  },
  "toc": {
   "base_numbering": 1,
   "nav_menu": {},
   "number_sections": true,
   "sideBar": true,
   "skip_h1_title": false,
   "title_cell": "Table of Contents",
   "title_sidebar": "Contents",
   "toc_cell": false,
   "toc_position": {},
   "toc_section_display": true,
   "toc_window_display": false
  },
  "varInspector": {
   "cols": {
    "lenName": 16,
    "lenType": 16,
    "lenVar": 40
   },
   "kernels_config": {
    "python": {
     "delete_cmd_postfix": "",
     "delete_cmd_prefix": "del ",
     "library": "var_list.py",
     "varRefreshCmd": "print(var_dic_list())"
    },
    "r": {
     "delete_cmd_postfix": ") ",
     "delete_cmd_prefix": "rm(",
     "library": "var_list.r",
     "varRefreshCmd": "cat(var_dic_list()) "
    }
   },
   "types_to_exclude": [
    "module",
    "function",
    "builtin_function_or_method",
    "instance",
    "_Feature"
   ],
   "window_display": false
  }
 },
 "nbformat": 4,
 "nbformat_minor": 2
}
