{
 "cells": [
  {
   "cell_type": "markdown",
   "metadata": {},
   "source": [
    "## Topic Modelling on Reddit Data"
   ]
  },
  {
   "cell_type": "code",
   "execution_count": 4,
   "metadata": {},
   "outputs": [],
   "source": [
    "# !pip install gensim"
   ]
  },
  {
   "cell_type": "code",
   "execution_count": 5,
   "metadata": {},
   "outputs": [],
   "source": [
    "# conda install -c conda-forge pyldavis"
   ]
  },
  {
   "cell_type": "code",
   "execution_count": 6,
   "metadata": {},
   "outputs": [],
   "source": [
    "import pandas as pd\n",
    "import numpy as np\n",
    "import matplotlib.pyplot as plt\n",
    "import seaborn as sns\n",
    "import matplotlib.style as style\n",
    "import matplotlib\n",
    "\n",
    "import gensim as gensim\n",
    "import nltk\n",
    "from sklearn.feature_extraction.text import CountVectorizer\n",
    "import re\n",
    "\n",
    "import json"
   ]
  },
  {
   "cell_type": "markdown",
   "metadata": {},
   "source": [
    "### Retrieve Data"
   ]
  },
  {
   "cell_type": "code",
   "execution_count": 7,
   "metadata": {},
   "outputs": [
    {
     "name": "stdout",
     "output_type": "stream",
     "text": [
      "(380, 9)\n"
     ]
    },
    {
     "data": {
      "text/html": [
       "<div>\n",
       "<style scoped>\n",
       "    .dataframe tbody tr th:only-of-type {\n",
       "        vertical-align: middle;\n",
       "    }\n",
       "\n",
       "    .dataframe tbody tr th {\n",
       "        vertical-align: top;\n",
       "    }\n",
       "\n",
       "    .dataframe thead th {\n",
       "        text-align: right;\n",
       "    }\n",
       "</style>\n",
       "<table border=\"1\" class=\"dataframe\">\n",
       "  <thead>\n",
       "    <tr style=\"text-align: right;\">\n",
       "      <th></th>\n",
       "      <th>author</th>\n",
       "      <th>title</th>\n",
       "      <th>score</th>\n",
       "      <th>id</th>\n",
       "      <th>url</th>\n",
       "      <th>comms_num</th>\n",
       "      <th>created</th>\n",
       "      <th>body</th>\n",
       "      <th>timestamp</th>\n",
       "    </tr>\n",
       "  </thead>\n",
       "  <tbody>\n",
       "    <tr>\n",
       "      <th>0</th>\n",
       "      <td>shian243</td>\n",
       "      <td>Singaporean student in London seeks eyewitness...</td>\n",
       "      <td>2936</td>\n",
       "      <td>fcn9km</td>\n",
       "      <td>https://www.straitstimes.com/singapore/singapo...</td>\n",
       "      <td>424</td>\n",
       "      <td>1583229539</td>\n",
       "      <td>NaN</td>\n",
       "      <td>3/3/2020 17:58</td>\n",
       "    </tr>\n",
       "    <tr>\n",
       "      <th>1</th>\n",
       "      <td>andylee69</td>\n",
       "      <td>Protection Level : Max</td>\n",
       "      <td>1959</td>\n",
       "      <td>fdrdib</td>\n",
       "      <td>https://i.redd.it/1jha4evfwsk41.jpg</td>\n",
       "      <td>89</td>\n",
       "      <td>1583419658</td>\n",
       "      <td>NaN</td>\n",
       "      <td>5/3/2020 22:47</td>\n",
       "    </tr>\n",
       "    <tr>\n",
       "      <th>2</th>\n",
       "      <td>satoshigekkouga2303</td>\n",
       "      <td>Singapore reports two deaths from Covid-19</td>\n",
       "      <td>1593</td>\n",
       "      <td>fm8vm4</td>\n",
       "      <td>https://www.straitstimes.com/singapore/singapo...</td>\n",
       "      <td>281</td>\n",
       "      <td>1584791447</td>\n",
       "      <td>NaN</td>\n",
       "      <td>21/3/2020 19:50</td>\n",
       "    </tr>\n",
       "    <tr>\n",
       "      <th>3</th>\n",
       "      <td>shian243</td>\n",
       "      <td>COVID-19: Singapore closes borders to all tour...</td>\n",
       "      <td>1594</td>\n",
       "      <td>fmt1xw</td>\n",
       "      <td>https://sg.news.yahoo.com/covid-19-singapore-c...</td>\n",
       "      <td>328</td>\n",
       "      <td>1584876271</td>\n",
       "      <td>NaN</td>\n",
       "      <td>22/3/2020 19:24</td>\n",
       "    </tr>\n",
       "    <tr>\n",
       "      <th>4</th>\n",
       "      <td>le_coder_boy</td>\n",
       "      <td>Thank you, Grab driver :) (p.s. we didn't take...</td>\n",
       "      <td>1537</td>\n",
       "      <td>fbntfx</td>\n",
       "      <td>https://i.redd.it/o1yqc5at7zj41.jpg</td>\n",
       "      <td>33</td>\n",
       "      <td>1583060277</td>\n",
       "      <td>NaN</td>\n",
       "      <td>1/3/2020 18:57</td>\n",
       "    </tr>\n",
       "    <tr>\n",
       "      <th>...</th>\n",
       "      <td>...</td>\n",
       "      <td>...</td>\n",
       "      <td>...</td>\n",
       "      <td>...</td>\n",
       "      <td>...</td>\n",
       "      <td>...</td>\n",
       "      <td>...</td>\n",
       "      <td>...</td>\n",
       "      <td>...</td>\n",
       "    </tr>\n",
       "    <tr>\n",
       "      <th>375</th>\n",
       "      <td>discmon</td>\n",
       "      <td>Supply from other countries in place, says Cha...</td>\n",
       "      <td>23</td>\n",
       "      <td>flp3do</td>\n",
       "      <td>https://www.straitstimes.com/singapore/supply-...</td>\n",
       "      <td>14</td>\n",
       "      <td>1584709027</td>\n",
       "      <td>NaN</td>\n",
       "      <td>20/3/2020 20:57</td>\n",
       "    </tr>\n",
       "    <tr>\n",
       "      <th>376</th>\n",
       "      <td>justmewayne</td>\n",
       "      <td>Hong Kong, Singapore seen as safe harbours as ...</td>\n",
       "      <td>23</td>\n",
       "      <td>fl0eff</td>\n",
       "      <td>https://www.scmp.com/week-asia/health-environm...</td>\n",
       "      <td>28</td>\n",
       "      <td>1584606199</td>\n",
       "      <td>NaN</td>\n",
       "      <td>19/3/2020 16:23</td>\n",
       "    </tr>\n",
       "    <tr>\n",
       "      <th>377</th>\n",
       "      <td>MrSinkie</td>\n",
       "      <td>Supermarket shelves (photo taken 2 hours ago)</td>\n",
       "      <td>22</td>\n",
       "      <td>fk4dvf</td>\n",
       "      <td>https://i.redd.it/4591or4388n41.jpg</td>\n",
       "      <td>14</td>\n",
       "      <td>1584476874</td>\n",
       "      <td>NaN</td>\n",
       "      <td>18/3/2020 4:27</td>\n",
       "    </tr>\n",
       "    <tr>\n",
       "      <th>378</th>\n",
       "      <td>etca2z</td>\n",
       "      <td>What kind of ActiveSG pyhsical distancing is t...</td>\n",
       "      <td>22</td>\n",
       "      <td>fk1mhy</td>\n",
       "      <td>https://i.redd.it/c2clal2bz6n41.jpg</td>\n",
       "      <td>8</td>\n",
       "      <td>1584461958</td>\n",
       "      <td>NaN</td>\n",
       "      <td>18/3/2020 0:19</td>\n",
       "    </tr>\n",
       "    <tr>\n",
       "      <th>379</th>\n",
       "      <td>SG-ForeignInfluenzer</td>\n",
       "      <td>'Israel Helped Us at a Critical Moment': How I...</td>\n",
       "      <td>26</td>\n",
       "      <td>fjj511</td>\n",
       "      <td>https://www.haaretz.com/israel-news/.premium-t...</td>\n",
       "      <td>5</td>\n",
       "      <td>1584385058</td>\n",
       "      <td>NaN</td>\n",
       "      <td>17/3/2020 2:57</td>\n",
       "    </tr>\n",
       "  </tbody>\n",
       "</table>\n",
       "<p>380 rows × 9 columns</p>\n",
       "</div>"
      ],
      "text/plain": [
       "                   author                                              title  \\\n",
       "0                shian243  Singaporean student in London seeks eyewitness...   \n",
       "1               andylee69                             Protection Level : Max   \n",
       "2     satoshigekkouga2303         Singapore reports two deaths from Covid-19   \n",
       "3                shian243  COVID-19: Singapore closes borders to all tour...   \n",
       "4            le_coder_boy  Thank you, Grab driver :) (p.s. we didn't take...   \n",
       "..                    ...                                                ...   \n",
       "375               discmon  Supply from other countries in place, says Cha...   \n",
       "376           justmewayne  Hong Kong, Singapore seen as safe harbours as ...   \n",
       "377              MrSinkie      Supermarket shelves (photo taken 2 hours ago)   \n",
       "378                etca2z  What kind of ActiveSG pyhsical distancing is t...   \n",
       "379  SG-ForeignInfluenzer  'Israel Helped Us at a Critical Moment': How I...   \n",
       "\n",
       "     score      id                                                url  \\\n",
       "0     2936  fcn9km  https://www.straitstimes.com/singapore/singapo...   \n",
       "1     1959  fdrdib                https://i.redd.it/1jha4evfwsk41.jpg   \n",
       "2     1593  fm8vm4  https://www.straitstimes.com/singapore/singapo...   \n",
       "3     1594  fmt1xw  https://sg.news.yahoo.com/covid-19-singapore-c...   \n",
       "4     1537  fbntfx                https://i.redd.it/o1yqc5at7zj41.jpg   \n",
       "..     ...     ...                                                ...   \n",
       "375     23  flp3do  https://www.straitstimes.com/singapore/supply-...   \n",
       "376     23  fl0eff  https://www.scmp.com/week-asia/health-environm...   \n",
       "377     22  fk4dvf                https://i.redd.it/4591or4388n41.jpg   \n",
       "378     22  fk1mhy                https://i.redd.it/c2clal2bz6n41.jpg   \n",
       "379     26  fjj511  https://www.haaretz.com/israel-news/.premium-t...   \n",
       "\n",
       "     comms_num     created body        timestamp  \n",
       "0          424  1583229539  NaN   3/3/2020 17:58  \n",
       "1           89  1583419658  NaN   5/3/2020 22:47  \n",
       "2          281  1584791447  NaN  21/3/2020 19:50  \n",
       "3          328  1584876271  NaN  22/3/2020 19:24  \n",
       "4           33  1583060277  NaN   1/3/2020 18:57  \n",
       "..         ...         ...  ...              ...  \n",
       "375         14  1584709027  NaN  20/3/2020 20:57  \n",
       "376         28  1584606199  NaN  19/3/2020 16:23  \n",
       "377         14  1584476874  NaN   18/3/2020 4:27  \n",
       "378          8  1584461958  NaN   18/3/2020 0:19  \n",
       "379          5  1584385058  NaN   17/3/2020 2:57  \n",
       "\n",
       "[380 rows x 9 columns]"
      ]
     },
     "execution_count": 7,
     "metadata": {},
     "output_type": "execute_result"
    }
   ],
   "source": [
    "reddit_df = pd.read_csv('reddit_singapore_mar.csv', encoding='UTF-8')\n",
    "\n",
    "print(reddit_df.shape)\n",
    "reddit_df"
   ]
  },
  {
   "cell_type": "code",
   "execution_count": 8,
   "metadata": {},
   "outputs": [
    {
     "name": "stdout",
     "output_type": "stream",
     "text": [
      "Total number of posts: \n",
      "380 \n",
      "\n",
      "Sample posts: \n",
      "['Singaporean student in London seeks eyewitnesses after coronavirus-related taunt and assault', 'Protection Level : Max', 'Singapore reports two deaths from Covid-19']\n"
     ]
    }
   ],
   "source": [
    "# Get all posts(string) in a list\n",
    "\n",
    "posts_list = reddit_df['title'].tolist()\n",
    "        \n",
    "print(\"Total number of posts: \\n{} \\n\".format(len(posts_list)))\n",
    "print(\"Sample posts: \\n{}\".format(posts_list[:3]))"
   ]
  },
  {
   "cell_type": "markdown",
   "metadata": {},
   "source": [
    "### Text Preprocessing, Tokenisation and Stop Words Removal"
   ]
  },
  {
   "cell_type": "code",
   "execution_count": 9,
   "metadata": {},
   "outputs": [],
   "source": [
    "from nltk.tokenize import RegexpTokenizer\n",
    "# splits string into substrings using a regular expression\n",
    "# tokenises words that contain 1 or more (+) alphanumeric characters (\\w) or '@'\n",
    "retokenizer = RegexpTokenizer(r'[\\w@]+')\n",
    "\n",
    "# create stop words list\n",
    "from nltk.corpus import stopwords\n",
    "stop_words = stopwords.words('english')\n",
    "# add context specific stop words\n",
    "stop_words += [\"rt\", \"got\", \"thats\", \"would\", \"going\", \"u\", \"get\", \n",
    "                \"also\", \"one\", \"could\", \"said\", \"like\", \"singapore\",\n",
    "                \"coronavirus\", \"covid\", \"say\"]\n",
    "\n",
    "# create lemmatizer\n",
    "wnl = nltk.stem.wordnet.WordNetLemmatizer()\n",
    "\n",
    "# text pre-processing functions \n",
    "def remove_urls(s):\n",
    "    # re.sub(pattern,repl,string) is used to replace substrings. Will replace the matches in string with repl\n",
    "    return re.sub(r'https?://\\S+', \"\", s)\n",
    "\n",
    "def remove_usernames(s):\n",
    "    return re.sub(r'@\\S+', \"\", s)\n",
    "\n",
    "def remove_specialchar(text, remove_digits=False):    \n",
    "    if not remove_digits:\n",
    "        pattern = r'[^a-zA-z0-9\\s]'\n",
    "    else:\n",
    "        pattern = r'[^a-zA-z\\s]'\n",
    "    text = re.sub(pattern, '', text)\n",
    "    return text"
   ]
  },
  {
   "cell_type": "code",
   "execution_count": 10,
   "metadata": {},
   "outputs": [],
   "source": [
    "def process_text(documents):\n",
    "    processed_docs = []\n",
    "    doc_tokens = []\n",
    "    for doc in documents:\n",
    "        doc = doc.lower()\n",
    "        doc = remove_urls(doc)\n",
    "        doc = remove_usernames(doc)\n",
    "        doc = remove_specialchar(doc, remove_digits=True)\n",
    "        doc_tokens = retokenizer.tokenize(doc)\n",
    "        doc_tokens = [token for token in doc_tokens if token not in stop_words]\n",
    "        doc_tokens = [wnl.lemmatize(token) for token in doc_tokens]    \n",
    "#         doc = ' '.join(doc_tokens)\n",
    "        processed_docs.append(doc_tokens)\n",
    "#         print(doc_tokens)\n",
    "    return processed_docs"
   ]
  },
  {
   "cell_type": "code",
   "execution_count": 11,
   "metadata": {},
   "outputs": [
    {
     "name": "stdout",
     "output_type": "stream",
     "text": [
      "380\n"
     ]
    }
   ],
   "source": [
    "processed_posts = process_text(posts_list)\n",
    "print(len(processed_posts))\n",
    "# print(processed_posts)"
   ]
  },
  {
   "cell_type": "markdown",
   "metadata": {},
   "source": [
    "### Topic Modelling"
   ]
  },
  {
   "cell_type": "markdown",
   "metadata": {},
   "source": [
    "#### Create dictionary representaion\n",
    "`gensim` dictionary assigns an integer id to each unique word in the corpus"
   ]
  },
  {
   "cell_type": "code",
   "execution_count": 12,
   "metadata": {},
   "outputs": [
    {
     "name": "stdout",
     "output_type": "stream",
     "text": [
      "Sample word to id mappings:\n",
      " [(0, 'assault'), (1, 'coronavirusrelated'), (2, 'eyewitness'), (3, 'london'), (4, 'seek'), (5, 'singaporean'), (6, 'student'), (7, 'taunt'), (8, 'level'), (9, 'max'), (10, 'protection'), (11, 'death'), (12, 'report'), (13, 'two'), (14, 'border'), (15, 'close'), (16, 'shortterm'), (17, 'tourist'), (18, 'visitor'), (19, 'didnt'), (20, 'driver'), (21, 'grab'), (22, 'p'), (23, 'take'), (24, 'thank'), (25, 'buying'), (26, 'cat'), (27, 'even'), (28, 'panic'), (29, 'sense'), (30, 'access'), (31, 'attraction'), (32, 'free'), (33, 'shoot'), (34, 'took'), (35, 'went'), (36, 'hero'), (37, 'parent'), (38, 'case'), (39, 'imported'), (40, 'infection'), (41, 'new'), (42, 'reach'), (43, 'distancing'), (44, 'far'), (45, 'gone'), (46, 'social'), (47, 'full'), (48, 'kind'), (49, 'part'), (50, 'soul'), (51, 'time'), (52, 'ceo'), (53, 'excess'), (54, 'fairprice'), (55, 'item'), (56, 'policy'), (57, 'refund'), (58, 'say'), (59, 'standard'), (60, 'stockpiled'), (61, 'club'), (62, 'definition'), (63, 'dont'), (64, 'think'), (65, 'understand'), (66, 'flexing'), (67, 'hoard'), (68, 'muscle'), (69, 'please'), (70, 'sheng'), (71, 'siong'), (72, 'comparing'), (73, 'currently'), (74, 'interesting')]\n",
      "Total Vocabulary Size: 1458\n"
     ]
    }
   ],
   "source": [
    "# Create a dictionary representation of the documents. Each word gets an id\n",
    "dictionary = gensim.corpora.Dictionary(processed_posts)\n",
    "\n",
    "print('Sample word to id mappings:\\n', list(dictionary.items())[:75])\n",
    "print('Total Vocabulary Size:', len(dictionary))"
   ]
  },
  {
   "cell_type": "markdown",
   "metadata": {},
   "source": [
    "#### Create the vector space model (bag of words model in gensim)\n",
    "The function `doc2bow()` counts the number of occurrences of each unique word, converts the word to its integer word id and returns the result as a sparse vector (words from the dictionary not present in the document are not stored in the document vector)"
   ]
  },
  {
   "cell_type": "code",
   "execution_count": 13,
   "metadata": {},
   "outputs": [],
   "source": [
    "# Transforming corpus into bag of words vectors\n",
    "corpus_vect = [dictionary.doc2bow(text) for text in processed_posts]"
   ]
  },
  {
   "cell_type": "code",
   "execution_count": 14,
   "metadata": {},
   "outputs": [
    {
     "name": "stdout",
     "output_type": "stream",
     "text": [
      "[(11, 1), (12, 1), (13, 1)]\n",
      "\n",
      "\n",
      "['report', 'two', 'death']\n"
     ]
    }
   ],
   "source": [
    "# Check how the vector looks for the second news document\n",
    "\n",
    "print(corpus_vect[2])\n",
    "print(\"\\n\", )\n",
    "print(processed_posts[2])"
   ]
  },
  {
   "cell_type": "code",
   "execution_count": 15,
   "metadata": {},
   "outputs": [
    {
     "name": "stdout",
     "output_type": "stream",
     "text": [
      "<class 'list'>\n",
      "380\n"
     ]
    }
   ],
   "source": [
    "print(type(corpus_vect))\n",
    "print(len(corpus_vect))"
   ]
  },
  {
   "cell_type": "code",
   "execution_count": 16,
   "metadata": {},
   "outputs": [
    {
     "name": "stdout",
     "output_type": "stream",
     "text": [
      "[('level', 1), ('max', 1), ('protection', 1)]\n"
     ]
    }
   ],
   "source": [
    "# Viewing them as terms and their document frequencies, index into the dictionary\n",
    "\n",
    "print([(dictionary[id] , freq) for id, freq in corpus_vect[1][:20]])"
   ]
  },
  {
   "cell_type": "markdown",
   "metadata": {},
   "source": [
    "#### Build the LDA model"
   ]
  },
  {
   "cell_type": "code",
   "execution_count": 17,
   "metadata": {},
   "outputs": [],
   "source": [
    "num_topics = 4"
   ]
  },
  {
   "cell_type": "code",
   "execution_count": 18,
   "metadata": {},
   "outputs": [
    {
     "name": "stdout",
     "output_type": "stream",
     "text": [
      "0: 0.045*\"case\" + 0.032*\"new\" + 0.011*\"spore\" + 0.011*\"confirmed\" + 0.011*\"discharged\" + 0.010*\"safra\" + 0.010*\"infection\" + 0.009*\"measure\" + 0.008*\"cluster\" + 0.008*\"jurong\"\n",
      "1: 0.009*\"malaysia\" + 0.009*\"country\" + 0.008*\"singaporean\" + 0.006*\"thailand\" + 0.006*\"cluster\" + 0.005*\"student\" + 0.005*\"travel\" + 0.005*\"singapore\" + 0.005*\"say\" + 0.005*\"spore\"\n",
      "2: 0.010*\"malaysia\" + 0.008*\"food\" + 0.008*\"distancing\" + 0.008*\"pm\" + 0.008*\"mask\" + 0.007*\"panic\" + 0.007*\"lee\" + 0.007*\"social\" + 0.006*\"spore\" + 0.006*\"supply\"\n",
      "3: 0.007*\"social\" + 0.006*\"stayhome\" + 0.006*\"home\" + 0.006*\"notice\" + 0.006*\"virus\" + 0.005*\"patient\" + 0.005*\"due\" + 0.005*\"situation\" + 0.005*\"distancing\" + 0.005*\"worker\"\n"
     ]
    }
   ],
   "source": [
    "# Load previously generated LDA model from disk\n",
    "\n",
    "ldamodel = pickle.load(open(\"reddit_topics\", 'rb'))\n",
    "for num ,topic in ldamodel.show_topics(formatted=True, num_topics=num_topics, num_words=10):\n",
    "    print(str(num)+\": \"+ topic)"
   ]
  },
  {
   "cell_type": "code",
   "execution_count": 19,
   "metadata": {},
   "outputs": [],
   "source": [
    "# Build LDA model\n",
    "\n",
    "# ldamodel = gensim.models.ldamodel.LdaModel(corpus_vect, num_topics = num_topics, id2word=dictionary, passes=25)"
   ]
  },
  {
   "cell_type": "code",
   "execution_count": 20,
   "metadata": {},
   "outputs": [],
   "source": [
    "# print(type(ldamodel))"
   ]
  },
  {
   "cell_type": "code",
   "execution_count": 21,
   "metadata": {},
   "outputs": [],
   "source": [
    "# print(ldamodel.print_topics(num_topics = num_topics, num_words = 10))"
   ]
  },
  {
   "cell_type": "code",
   "execution_count": 22,
   "metadata": {},
   "outputs": [
    {
     "name": "stdout",
     "output_type": "stream",
     "text": [
      "0: 0.045*\"case\" + 0.032*\"new\" + 0.011*\"spore\" + 0.011*\"confirmed\" + 0.011*\"discharged\" + 0.010*\"safra\" + 0.010*\"infection\" + 0.009*\"measure\" + 0.008*\"cluster\" + 0.008*\"jurong\"\n",
      "1: 0.009*\"malaysia\" + 0.009*\"country\" + 0.008*\"singaporean\" + 0.006*\"thailand\" + 0.006*\"cluster\" + 0.005*\"student\" + 0.005*\"travel\" + 0.005*\"singapore\" + 0.005*\"say\" + 0.005*\"spore\"\n",
      "2: 0.010*\"malaysia\" + 0.008*\"food\" + 0.008*\"distancing\" + 0.008*\"pm\" + 0.008*\"mask\" + 0.007*\"panic\" + 0.007*\"lee\" + 0.007*\"social\" + 0.006*\"spore\" + 0.006*\"supply\"\n",
      "3: 0.007*\"social\" + 0.006*\"stayhome\" + 0.006*\"home\" + 0.006*\"notice\" + 0.006*\"virus\" + 0.005*\"patient\" + 0.005*\"due\" + 0.005*\"situation\" + 0.005*\"distancing\" + 0.005*\"worker\"\n"
     ]
    }
   ],
   "source": [
    "# Show top 10 words for each topic\n",
    "# Topic will be inferred from the words\n",
    "\n",
    "for num ,topic in ldamodel.show_topics(formatted=True, num_topics=num_topics, num_words=10):\n",
    "    print(str(num)+\": \"+ topic)"
   ]
  },
  {
   "cell_type": "code",
   "execution_count": 23,
   "metadata": {},
   "outputs": [
    {
     "name": "stdout",
     "output_type": "stream",
     "text": [
      "(3, '0.007*\"social\" + 0.006*\"stayhome\" + 0.006*\"home\" + 0.006*\"notice\" + 0.006*\"virus\" + 0.005*\"patient\" + 0.005*\"due\" + 0.005*\"situation\" + 0.005*\"distancing\" + 0.005*\"worker\"')\n"
     ]
    }
   ],
   "source": [
    "# To access and print topics from LDA model\n",
    "\n",
    "topics = ldamodel.show_topics(formatted=True, num_topics=num_topics, num_words=10)\n",
    "print(topics[3])"
   ]
  },
  {
   "cell_type": "markdown",
   "metadata": {},
   "source": [
    "#### Compute Coherence Score"
   ]
  },
  {
   "cell_type": "code",
   "execution_count": 24,
   "metadata": {},
   "outputs": [
    {
     "name": "stdout",
     "output_type": "stream",
     "text": [
      "\n",
      "Coherence Score:  0.540556047138091\n"
     ]
    }
   ],
   "source": [
    "from gensim.models import CoherenceModel\n",
    "\n",
    "# Compute Coherence Score for LDA Model\n",
    "coherence_model_lda = CoherenceModel(model=ldamodel, texts=processed_posts, dictionary=dictionary, coherence='c_v')\n",
    "coherence_lda = coherence_model_lda.get_coherence()\n",
    "print('\\nCoherence Score: ', coherence_lda)"
   ]
  },
  {
   "cell_type": "markdown",
   "metadata": {},
   "source": [
    "#### Get Dominant Topic For Each Post"
   ]
  },
  {
   "cell_type": "code",
   "execution_count": 25,
   "metadata": {},
   "outputs": [
    {
     "data": {
      "text/html": [
       "<div>\n",
       "<style scoped>\n",
       "    .dataframe tbody tr th:only-of-type {\n",
       "        vertical-align: middle;\n",
       "    }\n",
       "\n",
       "    .dataframe tbody tr th {\n",
       "        vertical-align: top;\n",
       "    }\n",
       "\n",
       "    .dataframe thead th {\n",
       "        text-align: right;\n",
       "    }\n",
       "</style>\n",
       "<table border=\"1\" class=\"dataframe\">\n",
       "  <thead>\n",
       "    <tr style=\"text-align: right;\">\n",
       "      <th></th>\n",
       "      <th>Document_No</th>\n",
       "      <th>Dominant_Topic</th>\n",
       "      <th>Topic_Perc_Contrib</th>\n",
       "      <th>Keywords</th>\n",
       "      <th>Text</th>\n",
       "    </tr>\n",
       "  </thead>\n",
       "  <tbody>\n",
       "    <tr>\n",
       "      <th>0</th>\n",
       "      <td>0</td>\n",
       "      <td>0.0</td>\n",
       "      <td>0.9143</td>\n",
       "      <td>case, new, spore, confirmed, discharged, safra...</td>\n",
       "      <td>[singaporean, student, london, seek, eyewitnes...</td>\n",
       "    </tr>\n",
       "    <tr>\n",
       "      <th>1</th>\n",
       "      <td>1</td>\n",
       "      <td>3.0</td>\n",
       "      <td>0.8123</td>\n",
       "      <td>social, stayhome, home, notice, virus, patient...</td>\n",
       "      <td>[protection, level, max]</td>\n",
       "    </tr>\n",
       "    <tr>\n",
       "      <th>2</th>\n",
       "      <td>2</td>\n",
       "      <td>0.0</td>\n",
       "      <td>0.5097</td>\n",
       "      <td>case, new, spore, confirmed, discharged, safra...</td>\n",
       "      <td>[report, two, death]</td>\n",
       "    </tr>\n",
       "    <tr>\n",
       "      <th>3</th>\n",
       "      <td>3</td>\n",
       "      <td>2.0</td>\n",
       "      <td>0.8718</td>\n",
       "      <td>malaysia, food, distancing, pm, mask, panic, l...</td>\n",
       "      <td>[close, border, tourist, shortterm, visitor]</td>\n",
       "    </tr>\n",
       "    <tr>\n",
       "      <th>4</th>\n",
       "      <td>4</td>\n",
       "      <td>2.0</td>\n",
       "      <td>0.8897</td>\n",
       "      <td>malaysia, food, distancing, pm, mask, panic, l...</td>\n",
       "      <td>[thank, grab, driver, p, didnt, take]</td>\n",
       "    </tr>\n",
       "    <tr>\n",
       "      <th>5</th>\n",
       "      <td>5</td>\n",
       "      <td>2.0</td>\n",
       "      <td>0.9162</td>\n",
       "      <td>malaysia, food, distancing, pm, mask, panic, l...</td>\n",
       "      <td>[even, cat, sense, panic, buying, cat, panic, ...</td>\n",
       "    </tr>\n",
       "    <tr>\n",
       "      <th>6</th>\n",
       "      <td>6</td>\n",
       "      <td>2.0</td>\n",
       "      <td>0.8916</td>\n",
       "      <td>malaysia, food, distancing, pm, mask, panic, l...</td>\n",
       "      <td>[free, access, attraction, went, took, shoot]</td>\n",
       "    </tr>\n",
       "    <tr>\n",
       "      <th>7</th>\n",
       "      <td>7</td>\n",
       "      <td>1.0</td>\n",
       "      <td>0.7497</td>\n",
       "      <td>malaysia, country, singaporean, thailand, clus...</td>\n",
       "      <td>[parent, hero]</td>\n",
       "    </tr>\n",
       "    <tr>\n",
       "      <th>8</th>\n",
       "      <td>8</td>\n",
       "      <td>0.0</td>\n",
       "      <td>0.8749</td>\n",
       "      <td>case, new, spore, confirmed, discharged, safra...</td>\n",
       "      <td>[case, reach, new, infection, imported]</td>\n",
       "    </tr>\n",
       "    <tr>\n",
       "      <th>9</th>\n",
       "      <td>9</td>\n",
       "      <td>3.0</td>\n",
       "      <td>0.8463</td>\n",
       "      <td>social, stayhome, home, notice, virus, patient...</td>\n",
       "      <td>[social, distancing, gone, far]</td>\n",
       "    </tr>\n",
       "  </tbody>\n",
       "</table>\n",
       "</div>"
      ],
      "text/plain": [
       "   Document_No  Dominant_Topic  Topic_Perc_Contrib  \\\n",
       "0            0             0.0              0.9143   \n",
       "1            1             3.0              0.8123   \n",
       "2            2             0.0              0.5097   \n",
       "3            3             2.0              0.8718   \n",
       "4            4             2.0              0.8897   \n",
       "5            5             2.0              0.9162   \n",
       "6            6             2.0              0.8916   \n",
       "7            7             1.0              0.7497   \n",
       "8            8             0.0              0.8749   \n",
       "9            9             3.0              0.8463   \n",
       "\n",
       "                                            Keywords  \\\n",
       "0  case, new, spore, confirmed, discharged, safra...   \n",
       "1  social, stayhome, home, notice, virus, patient...   \n",
       "2  case, new, spore, confirmed, discharged, safra...   \n",
       "3  malaysia, food, distancing, pm, mask, panic, l...   \n",
       "4  malaysia, food, distancing, pm, mask, panic, l...   \n",
       "5  malaysia, food, distancing, pm, mask, panic, l...   \n",
       "6  malaysia, food, distancing, pm, mask, panic, l...   \n",
       "7  malaysia, country, singaporean, thailand, clus...   \n",
       "8  case, new, spore, confirmed, discharged, safra...   \n",
       "9  social, stayhome, home, notice, virus, patient...   \n",
       "\n",
       "                                                Text  \n",
       "0  [singaporean, student, london, seek, eyewitnes...  \n",
       "1                           [protection, level, max]  \n",
       "2                               [report, two, death]  \n",
       "3       [close, border, tourist, shortterm, visitor]  \n",
       "4              [thank, grab, driver, p, didnt, take]  \n",
       "5  [even, cat, sense, panic, buying, cat, panic, ...  \n",
       "6      [free, access, attraction, went, took, shoot]  \n",
       "7                                     [parent, hero]  \n",
       "8            [case, reach, new, infection, imported]  \n",
       "9                    [social, distancing, gone, far]  "
      ]
     },
     "execution_count": 25,
     "metadata": {},
     "output_type": "execute_result"
    }
   ],
   "source": [
    "def format_topics_sentences(ldamodel, corpus, texts):\n",
    "    # Init output\n",
    "    sent_topics_df = pd.DataFrame()\n",
    "\n",
    "    # Get main topic in each document\n",
    "    for i, row_list in enumerate(ldamodel[corpus]):\n",
    "        row = row_list[0] if ldamodel.per_word_topics else row_list            \n",
    "        # print(row)\n",
    "        row = sorted(row, key=lambda x: (x[1]), reverse=True)\n",
    "        # Get the Dominant topic, Perc Contribution and Keywords for each document\n",
    "        for j, (topic_num, prop_topic) in enumerate(row):\n",
    "            if j == 0:  # => dominant topic\n",
    "                wp = ldamodel.show_topic(topic_num)\n",
    "                topic_keywords = \", \".join([word for word, prop in wp])\n",
    "                sent_topics_df = sent_topics_df.append(pd.Series([int(topic_num), round(prop_topic,4), topic_keywords]), ignore_index=True)\n",
    "            else:\n",
    "                break\n",
    "    sent_topics_df.columns = ['Dominant_Topic', 'Perc_Contribution', 'Topic_Keywords']\n",
    "\n",
    "    # Add original text to the end of the output\n",
    "    contents = pd.Series(texts)\n",
    "    sent_topics_df = pd.concat([sent_topics_df, contents], axis=1)\n",
    "    return(sent_topics_df)\n",
    "\n",
    "\n",
    "df_topic_sents_keywords = format_topics_sentences(ldamodel=ldamodel, corpus=corpus_vect, texts=processed_posts)\n",
    "\n",
    "# Format\n",
    "df_dominant_topic = df_topic_sents_keywords.reset_index()\n",
    "df_dominant_topic.columns = ['Document_No', 'Dominant_Topic', 'Topic_Perc_Contrib', 'Keywords', 'Text']\n",
    "df_dominant_topic.head(10)"
   ]
  },
  {
   "cell_type": "code",
   "execution_count": 34,
   "metadata": {},
   "outputs": [
    {
     "data": {
      "text/html": [
       "<div>\n",
       "<style scoped>\n",
       "    .dataframe tbody tr th:only-of-type {\n",
       "        vertical-align: middle;\n",
       "    }\n",
       "\n",
       "    .dataframe tbody tr th {\n",
       "        vertical-align: top;\n",
       "    }\n",
       "\n",
       "    .dataframe thead th {\n",
       "        text-align: right;\n",
       "    }\n",
       "</style>\n",
       "<table border=\"1\" class=\"dataframe\">\n",
       "  <thead>\n",
       "    <tr style=\"text-align: right;\">\n",
       "      <th></th>\n",
       "      <th>Document_No</th>\n",
       "      <th>Dominant_Topic</th>\n",
       "      <th>Topic_Perc_Contrib</th>\n",
       "      <th>Keywords</th>\n",
       "      <th>Text</th>\n",
       "      <th>Dominant_Topic_Label</th>\n",
       "    </tr>\n",
       "  </thead>\n",
       "  <tbody>\n",
       "    <tr>\n",
       "      <th>0</th>\n",
       "      <td>0</td>\n",
       "      <td>0.0</td>\n",
       "      <td>0.9143</td>\n",
       "      <td>case, new, spore, confirmed, discharged, safra, infection, measure, cluster, jurong</td>\n",
       "      <td>[singaporean, student, london, seek, eyewitness, coronavirusrelated, taunt, assault]</td>\n",
       "      <td>Local Cases</td>\n",
       "    </tr>\n",
       "    <tr>\n",
       "      <th>1</th>\n",
       "      <td>1</td>\n",
       "      <td>3.0</td>\n",
       "      <td>0.8123</td>\n",
       "      <td>social, stayhome, home, notice, virus, patient, due, situation, distancing, worker</td>\n",
       "      <td>[protection, level, max]</td>\n",
       "      <td>Policy Measures</td>\n",
       "    </tr>\n",
       "    <tr>\n",
       "      <th>2</th>\n",
       "      <td>2</td>\n",
       "      <td>0.0</td>\n",
       "      <td>0.5097</td>\n",
       "      <td>case, new, spore, confirmed, discharged, safra, infection, measure, cluster, jurong</td>\n",
       "      <td>[report, two, death]</td>\n",
       "      <td>Local Cases</td>\n",
       "    </tr>\n",
       "    <tr>\n",
       "      <th>3</th>\n",
       "      <td>3</td>\n",
       "      <td>2.0</td>\n",
       "      <td>0.8718</td>\n",
       "      <td>malaysia, food, distancing, pm, mask, panic, lee, social, spore, supply</td>\n",
       "      <td>[close, border, tourist, shortterm, visitor]</td>\n",
       "      <td>Societal Impacts</td>\n",
       "    </tr>\n",
       "    <tr>\n",
       "      <th>4</th>\n",
       "      <td>4</td>\n",
       "      <td>2.0</td>\n",
       "      <td>0.8897</td>\n",
       "      <td>malaysia, food, distancing, pm, mask, panic, lee, social, spore, supply</td>\n",
       "      <td>[thank, grab, driver, p, didnt, take]</td>\n",
       "      <td>Societal Impacts</td>\n",
       "    </tr>\n",
       "  </tbody>\n",
       "</table>\n",
       "</div>"
      ],
      "text/plain": [
       "   Document_No  Dominant_Topic  Topic_Perc_Contrib  \\\n",
       "0            0             0.0              0.9143   \n",
       "1            1             3.0              0.8123   \n",
       "2            2             0.0              0.5097   \n",
       "3            3             2.0              0.8718   \n",
       "4            4             2.0              0.8897   \n",
       "\n",
       "                                                                              Keywords  \\\n",
       "0  case, new, spore, confirmed, discharged, safra, infection, measure, cluster, jurong   \n",
       "1   social, stayhome, home, notice, virus, patient, due, situation, distancing, worker   \n",
       "2  case, new, spore, confirmed, discharged, safra, infection, measure, cluster, jurong   \n",
       "3              malaysia, food, distancing, pm, mask, panic, lee, social, spore, supply   \n",
       "4              malaysia, food, distancing, pm, mask, panic, lee, social, spore, supply   \n",
       "\n",
       "                                                                                   Text  \\\n",
       "0  [singaporean, student, london, seek, eyewitness, coronavirusrelated, taunt, assault]   \n",
       "1                                                              [protection, level, max]   \n",
       "2                                                                  [report, two, death]   \n",
       "3                                          [close, border, tourist, shortterm, visitor]   \n",
       "4                                                 [thank, grab, driver, p, didnt, take]   \n",
       "\n",
       "  Dominant_Topic_Label  \n",
       "0          Local Cases  \n",
       "1      Policy Measures  \n",
       "2          Local Cases  \n",
       "3     Societal Impacts  \n",
       "4     Societal Impacts  "
      ]
     },
     "execution_count": 34,
     "metadata": {},
     "output_type": "execute_result"
    }
   ],
   "source": [
    "# Add the topic labels\n",
    "\n",
    "topic_label = {0.0: 'Local Cases',\n",
    "              1.0: 'Global Impacts',\n",
    "              2.0: 'Societal Impacts',\n",
    "              3.0: 'Policy Measures'}\n",
    "\n",
    "df_dominant_topic['Dominant_Topic_Label'] = df_dominant_topic['Dominant_Topic'].apply(lambda x: topic_label[x])\n",
    "df_dominant_topic.head(5)"
   ]
  },
  {
   "cell_type": "code",
   "execution_count": 40,
   "metadata": {},
   "outputs": [
    {
     "data": {
      "text/plain": [
       "[Text(0, 0.5, 'Number of Reddit Posts'), Text(0.5, 0, 'Topics')]"
      ]
     },
     "execution_count": 40,
     "metadata": {},
     "output_type": "execute_result"
    },
    {
     "data": {
      "image/png": "[encoded data removed]",
      "text/plain": [
       "<Figure size 720x360 with 1 Axes>"
      ]
     },
     "metadata": {},
     "output_type": "display_data"
    }
   ],
   "source": [
    "# Visualise contribution of each topics to Reddit Posts on COVID-19\n",
    "\n",
    "#### Plot settings ####\n",
    "style.use('seaborn-poster') #sets the size of the charts\n",
    "style.use('ggplot')\n",
    "matplotlib.rcParams['font.family'] = \"DejaVu Sans\"\n",
    "plt.rcParams['figure.figsize'] = [10, 5]\n",
    "sns.set_context('paper')\n",
    "####\n",
    "\n",
    "\n",
    "# Plot chart\n",
    "ax = sns.countplot(x=\"Dominant_Topic_Label\",\n",
    "                    data=df_dominant_topic,\n",
    "                    order = df_dominant_topic['Dominant_Topic_Label'].value_counts().index,\n",
    "                    palette=(\"Blues_d\"))\n",
    "\n",
    "\n",
    "# Add value labels\n",
    "for p in ax.patches:\n",
    "    ax.annotate(format(p.get_height(), '.0f'), (p.get_x() + p.get_width() / 2., p.get_height()), ha = 'center', va = 'center', xytext = (0, 10), textcoords = 'offset points')\n",
    "\n",
    "    \n",
    "# Change width of bars\n",
    "# def change_width(ax, new_value) :\n",
    "#     for patch in ax.patches :\n",
    "#         current_width = patch.get_width()\n",
    "#         diff = current_width - new_value\n",
    "\n",
    "#         # we change the bar width\n",
    "#         patch.set_width(new_value)\n",
    "\n",
    "#         # we recenter the bar\n",
    "#         patch.set_x(patch.get_x() + diff * .5)\n",
    "# change_width(ax, .60)\n",
    "\n",
    "\n",
    "# Add axis labels\n",
    "ax.set(xlabel='Topics', ylabel='Number of Reddit Posts')\n",
    "\n",
    "\n",
    "# plt.savefig('reddit_topic_contribution.png', dpi=400, transparent=True, bbox_inches=\"tight\")"
   ]
  },
  {
   "cell_type": "markdown",
   "metadata": {},
   "source": [
    "#### Get The Most Representative Sentence Of Each Topic"
   ]
  },
  {
   "cell_type": "code",
   "execution_count": 28,
   "metadata": {},
   "outputs": [
    {
     "data": {
      "text/html": [
       "<div>\n",
       "<style scoped>\n",
       "    .dataframe tbody tr th:only-of-type {\n",
       "        vertical-align: middle;\n",
       "    }\n",
       "\n",
       "    .dataframe tbody tr th {\n",
       "        vertical-align: top;\n",
       "    }\n",
       "\n",
       "    .dataframe thead th {\n",
       "        text-align: right;\n",
       "    }\n",
       "</style>\n",
       "<table border=\"1\" class=\"dataframe\">\n",
       "  <thead>\n",
       "    <tr style=\"text-align: right;\">\n",
       "      <th></th>\n",
       "      <th>Topic_Num</th>\n",
       "      <th>Topic_Perc_Contrib</th>\n",
       "      <th>Keywords</th>\n",
       "      <th>Representative Text</th>\n",
       "    </tr>\n",
       "  </thead>\n",
       "  <tbody>\n",
       "    <tr>\n",
       "      <th>0</th>\n",
       "      <td>0.0</td>\n",
       "      <td>0.9683</td>\n",
       "      <td>case, new, spore, confirmed, discharged, safra, infection, measure, cluster, jurong</td>\n",
       "      <td>[honest, question, far, locking, gonna, effective, barrier, lowering, case, considering, fact, c...</td>\n",
       "    </tr>\n",
       "    <tr>\n",
       "      <th>1</th>\n",
       "      <td>1.0</td>\n",
       "      <td>0.9649</td>\n",
       "      <td>malaysia, country, singaporean, thailand, cluster, student, travel, singapore, say, spore</td>\n",
       "      <td>[dont, advocate, school, closure, way, measure, taken, school, tackle, situation, questionable, ...</td>\n",
       "    </tr>\n",
       "    <tr>\n",
       "      <th>2</th>\n",
       "      <td>2.0</td>\n",
       "      <td>0.9555</td>\n",
       "      <td>malaysia, food, distancing, pm, mask, panic, lee, social, spore, supply</td>\n",
       "      <td>[guy, casually, wear, gas, mask, buy, mala, xiang, guo, redhill, food, centre, becomes, subject,...</td>\n",
       "    </tr>\n",
       "    <tr>\n",
       "      <th>3</th>\n",
       "      <td>3.0</td>\n",
       "      <td>0.9555</td>\n",
       "      <td>social, stayhome, home, notice, virus, patient, due, situation, distancing, worker</td>\n",
       "      <td>[patient, meal, medicine, delivered, robot, whats, second, robot, deployed, clean, chat, patient...</td>\n",
       "    </tr>\n",
       "  </tbody>\n",
       "</table>\n",
       "</div>"
      ],
      "text/plain": [
       "   Topic_Num  Topic_Perc_Contrib  \\\n",
       "0        0.0              0.9683   \n",
       "1        1.0              0.9649   \n",
       "2        2.0              0.9555   \n",
       "3        3.0              0.9555   \n",
       "\n",
       "                                                                                    Keywords  \\\n",
       "0        case, new, spore, confirmed, discharged, safra, infection, measure, cluster, jurong   \n",
       "1  malaysia, country, singaporean, thailand, cluster, student, travel, singapore, say, spore   \n",
       "2                    malaysia, food, distancing, pm, mask, panic, lee, social, spore, supply   \n",
       "3         social, stayhome, home, notice, virus, patient, due, situation, distancing, worker   \n",
       "\n",
       "                                                                                   Representative Text  \n",
       "0  [honest, question, far, locking, gonna, effective, barrier, lowering, case, considering, fact, c...  \n",
       "1  [dont, advocate, school, closure, way, measure, taken, school, tackle, situation, questionable, ...  \n",
       "2  [guy, casually, wear, gas, mask, buy, mala, xiang, guo, redhill, food, centre, becomes, subject,...  \n",
       "3  [patient, meal, medicine, delivered, robot, whats, second, robot, deployed, clean, chat, patient...  "
      ]
     },
     "execution_count": 28,
     "metadata": {},
     "output_type": "execute_result"
    }
   ],
   "source": [
    "# Display setting to show more characters in column\n",
    "pd.options.display.max_colwidth = 100\n",
    "\n",
    "sent_topics_sorteddf = pd.DataFrame()\n",
    "sent_topics_outdf_grpd = df_topic_sents_keywords.groupby('Dominant_Topic')\n",
    "\n",
    "for i, grp in sent_topics_outdf_grpd:\n",
    "    sent_topics_sorteddf = pd.concat([sent_topics_sorteddf, \n",
    "                                             grp.sort_values(['Perc_Contribution'], ascending=False).head(1)], \n",
    "                                            axis=0)\n",
    "\n",
    "# Reset Index    \n",
    "sent_topics_sorteddf.reset_index(drop=True, inplace=True)\n",
    "\n",
    "# Format\n",
    "sent_topics_sorteddf.columns = ['Topic_Num', \"Topic_Perc_Contrib\", \"Keywords\", \"Representative Text\"]\n",
    "\n",
    "# Show\n",
    "sent_topics_sorteddf.head(10)"
   ]
  },
  {
   "cell_type": "code",
   "execution_count": 30,
   "metadata": {},
   "outputs": [
    {
     "data": {
      "text/plain": [
       "author                                                                                                  nlim2004\n",
       "title        Honest question: How far is locking down Singapore gonna be an effective barrier for lowering co...\n",
       "score                                                                                                         51\n",
       "id                                                                                                        fm9gq5\n",
       "url          https://www.reddit.com/r/singapore/comments/fm9gq5/honest_question_how_far_is_locking_down_singa...\n",
       "comms_num                                                                                                     83\n",
       "created                                                                                               1584794254\n",
       "body         Really curious. Please share your opinions.\\n\\nAs the title suggests, wouldn't lockdown be detri...\n",
       "timestamp                                                                                        21/3/2020 20:37\n",
       "Name: 233, dtype: object"
      ]
     },
     "execution_count": 30,
     "metadata": {},
     "output_type": "execute_result"
    }
   ],
   "source": [
    "# Retrieve the representative tweet for topic 0 -- Local Cases\n",
    "\n",
    "topic0_reptext = sent_topics_sorteddf['Representative Text'][0]\n",
    "topic0_index = processed_posts.index(topic0_reptext)\n",
    "\n",
    "topic0_reppost = reddit_df.iloc[topic0_index]\n",
    "topic0_reppost"
   ]
  },
  {
   "cell_type": "code",
   "execution_count": null,
   "metadata": {},
   "outputs": [],
   "source": [
    "# Retrieve the representative tweet for topic 1 -- Global Cases\n",
    "\n",
    "topic1_reptext = sent_topics_sorteddf['Representative Text'][1]\n",
    "topic1_index = processed_posts.index(topic1_reptext)\n",
    "\n",
    "topic1_reppost = reddit_df.iloc[topic1_index]\n",
    "topic1_reppost"
   ]
  },
  {
   "cell_type": "code",
   "execution_count": 32,
   "metadata": {},
   "outputs": [
    {
     "data": {
      "text/plain": [
       "author                                                                                            Spectacle-Phua\n",
       "title        Guy casually wears gas mask to buy mala xiang guo at Redhill Food Centre, becomes subject of unc...\n",
       "score                                                                                                         29\n",
       "id                                                                                                        ffsc2t\n",
       "url                                                           https://mothership.sg/2020/03/gas-mask-redhill-85/\n",
       "comms_num                                                                                                     12\n",
       "created                                                                                               1583776457\n",
       "body                                                                                                         NaN\n",
       "timestamp                                                                                         10/3/2020 1:54\n",
       "Name: 323, dtype: object"
      ]
     },
     "execution_count": 32,
     "metadata": {},
     "output_type": "execute_result"
    }
   ],
   "source": [
    "# Retrieve the representative tweet for topic 2 -- Societal Impacts\n",
    "\n",
    "topic2_reptext = sent_topics_sorteddf['Representative Text'][2]\n",
    "topic2_index = processed_posts.index(topic2_reptext)\n",
    "\n",
    "topic2_reppost = reddit_df.iloc[topic2_index]\n",
    "topic2_reppost"
   ]
  },
  {
   "cell_type": "code",
   "execution_count": 33,
   "metadata": {},
   "outputs": [
    {
     "data": {
      "text/plain": [
       "author                                                                                                 PeekaB00_\n",
       "title        Singapore coronavirus patients to have their meals, medicine delivered by robot. What's more, a ...\n",
       "score                                                                                                         37\n",
       "id                                                                                                        feche3\n",
       "url          https://thethaiger.com/hot-news/coronavirus/singapore-coronavirus-patients-to-have-their-meals-m...\n",
       "comms_num                                                                                                     17\n",
       "created                                                                                               1583524849\n",
       "body                                                                                                         NaN\n",
       "timestamp                                                                                          7/3/2020 4:00\n",
       "Name: 268, dtype: object"
      ]
     },
     "execution_count": 33,
     "metadata": {},
     "output_type": "execute_result"
    }
   ],
   "source": [
    "# Retrieve the representative tweet for topic 3 -- Policy Measures\n",
    "\n",
    "topic3_reptext = sent_topics_sorteddf['Representative Text'][3]\n",
    "topic3_index = processed_posts.index(topic3_reptext)\n",
    "\n",
    "topic3_reppost = reddit_df.iloc[topic3_index]\n",
    "topic3_reppost"
   ]
  },
  {
   "cell_type": "markdown",
   "metadata": {},
   "source": [
    "#### Visualise topics"
   ]
  },
  {
   "cell_type": "code",
   "execution_count": 64,
   "metadata": {},
   "outputs": [],
   "source": [
    "import pyLDAvis.gensim"
   ]
  },
  {
   "cell_type": "code",
   "execution_count": 216,
   "metadata": {},
   "outputs": [
    {
     "name": "stderr",
     "output_type": "stream",
     "text": [
      "C:\\Users\\Xiao Rong\\Anaconda3\\lib\\site-packages\\pyLDAvis\\_prepare.py:257: FutureWarning: Sorting because non-concatenation axis is not aligned. A future version\n",
      "of pandas will change to not sort by default.\n",
      "\n",
      "To accept the future behavior, pass 'sort=False'.\n",
      "\n",
      "To retain the current behavior and silence the warning, pass 'sort=True'.\n",
      "\n",
      "  return pd.concat([default_term_info] + list(topic_dfs))\n"
     ]
    }
   ],
   "source": [
    "pyLDAvis.enable_notebook()\n",
    "p = pyLDAvis.gensim.prepare(ldamodel, corpus_vect, dictionary)"
   ]
  },
  {
   "cell_type": "code",
   "execution_count": 218,
   "metadata": {},
   "outputs": [
    {
     "data": {
      "text/html": [
       "\n",
       "<link rel=\"stylesheet\" type=\"text/css\" href=\"https://cdn.rawgit.com/bmabey/pyLDAvis/files/ldavis.v1.0.0.css\">\n",
       "\n",
       "\n",
       "<div id=\"ldavis_el2024026455023111129599957179\"></div>\n",
       "<script type=\"text/javascript\">\n",
       "\n",
       "var ldavis_el2024026455023111129599957179_data = {\"mdsDat\": {\"x\": [0.14548368326889569, -0.07658375272265398, -0.04824658413905295, -0.020653346407188605], \"y\": [0.0221124160516034, 0.10317238363668606, -0.0759889881693162, -0.049295811518973255], \"topics\": [1, 2, 3, 4], \"cluster\": [1, 1, 1, 1], \"Freq\": [35.63066864013672, 24.130596160888672, 22.0031795501709, 18.235549926757812]}, \"tinfo\": {\"Category\": [\"Default\", \"Default\", \"Default\", \"Default\", \"Default\", \"Default\", \"Default\", \"Default\", \"Default\", \"Default\", \"Default\", \"Default\", \"Default\", \"Default\", \"Default\", \"Default\", \"Default\", \"Default\", \"Default\", \"Default\", \"Default\", \"Default\", \"Default\", \"Default\", \"Default\", \"Default\", \"Default\", \"Default\", \"Default\", \"Default\", \"Topic1\", \"Topic1\", \"Topic1\", \"Topic1\", \"Topic1\", \"Topic1\", \"Topic1\", \"Topic1\", \"Topic1\", \"Topic1\", \"Topic1\", \"Topic1\", \"Topic1\", \"Topic1\", \"Topic1\", \"Topic1\", \"Topic1\", \"Topic1\", \"Topic1\", \"Topic1\", \"Topic1\", \"Topic1\", \"Topic1\", \"Topic1\", \"Topic1\", \"Topic1\", \"Topic1\", \"Topic1\", \"Topic1\", \"Topic1\", \"Topic1\", \"Topic1\", \"Topic1\", \"Topic1\", \"Topic1\", \"Topic1\", \"Topic1\", \"Topic1\", \"Topic1\", \"Topic1\", \"Topic1\", \"Topic1\", \"Topic1\", \"Topic1\", \"Topic1\", \"Topic1\", \"Topic1\", \"Topic1\", \"Topic1\", \"Topic2\", \"Topic2\", \"Topic2\", \"Topic2\", \"Topic2\", \"Topic2\", \"Topic2\", \"Topic2\", \"Topic2\", \"Topic2\", \"Topic2\", \"Topic2\", \"Topic2\", \"Topic2\", \"Topic2\", \"Topic2\", \"Topic2\", \"Topic2\", \"Topic2\", \"Topic2\", \"Topic2\", \"Topic2\", \"Topic2\", \"Topic2\", \"Topic2\", \"Topic2\", \"Topic2\", \"Topic2\", \"Topic2\", \"Topic2\", \"Topic2\", \"Topic2\", \"Topic2\", \"Topic2\", \"Topic2\", \"Topic2\", \"Topic2\", \"Topic2\", \"Topic2\", \"Topic2\", \"Topic2\", \"Topic2\", \"Topic2\", \"Topic2\", \"Topic2\", \"Topic2\", \"Topic2\", \"Topic2\", \"Topic2\", \"Topic2\", \"Topic2\", \"Topic2\", \"Topic2\", \"Topic2\", \"Topic3\", \"Topic3\", \"Topic3\", \"Topic3\", \"Topic3\", \"Topic3\", \"Topic3\", \"Topic3\", \"Topic3\", \"Topic3\", \"Topic3\", \"Topic3\", \"Topic3\", \"Topic3\", \"Topic3\", \"Topic3\", \"Topic3\", \"Topic3\", \"Topic3\", \"Topic3\", \"Topic3\", \"Topic3\", \"Topic3\", \"Topic3\", \"Topic3\", \"Topic3\", \"Topic3\", \"Topic3\", \"Topic3\", \"Topic3\", \"Topic3\", \"Topic3\", \"Topic3\", \"Topic3\", \"Topic3\", \"Topic3\", \"Topic3\", \"Topic3\", \"Topic3\", \"Topic3\", \"Topic3\", \"Topic3\", \"Topic3\", \"Topic3\", \"Topic3\", \"Topic3\", \"Topic3\", \"Topic3\", \"Topic3\", \"Topic3\", \"Topic3\", \"Topic3\", \"Topic3\", \"Topic3\", \"Topic3\", \"Topic3\", \"Topic3\", \"Topic3\", \"Topic4\", \"Topic4\", \"Topic4\", \"Topic4\", \"Topic4\", \"Topic4\", \"Topic4\", \"Topic4\", \"Topic4\", \"Topic4\", \"Topic4\", \"Topic4\", \"Topic4\", \"Topic4\", \"Topic4\", \"Topic4\", \"Topic4\", \"Topic4\", \"Topic4\", \"Topic4\", \"Topic4\", \"Topic4\", \"Topic4\", \"Topic4\", \"Topic4\", \"Topic4\", \"Topic4\", \"Topic4\", \"Topic4\", \"Topic4\", \"Topic4\", \"Topic4\", \"Topic4\", \"Topic4\", \"Topic4\", \"Topic4\", \"Topic4\", \"Topic4\", \"Topic4\", \"Topic4\", \"Topic4\", \"Topic4\", \"Topic4\", \"Topic4\", \"Topic4\", \"Topic4\", \"Topic4\", \"Topic4\", \"Topic4\", \"Topic4\", \"Topic4\", \"Topic4\", \"Topic4\", \"Topic4\", \"Topic4\", \"Topic4\", \"Topic4\"], \"Freq\": [51.0, 35.0, 12.0, 12.0, 10.0, 8.0, 12.0, 6.0, 16.0, 5.0, 6.0, 9.0, 4.0, 5.0, 7.0, 9.0, 4.0, 4.0, 4.0, 4.0, 8.0, 5.0, 5.0, 8.0, 8.0, 5.0, 6.0, 5.0, 3.0, 20.0, 11.801331520080566, 11.794921875, 33.847957611083984, 10.309826850891113, 47.97979736328125, 6.7175798416137695, 5.266512393951416, 5.161203861236572, 3.813523292541504, 3.0871970653533936, 3.087183713912964, 3.087172508239746, 3.087165355682373, 3.0871450901031494, 3.086857557296753, 10.36999797821045, 7.351181507110596, 2.3607587814331055, 2.360748767852783, 2.3607447147369385, 2.360739231109619, 2.360710620880127, 2.3607091903686523, 2.360696792602539, 2.3606762886047363, 2.360679864883423, 2.3606505393981934, 2.360352039337158, 5.208889007568359, 4.544877052307129, 9.627740859985352, 8.233789443969727, 12.076311111450195, 4.555756092071533, 5.620985507965088, 8.620826721191406, 4.541661739349365, 4.545936584472656, 4.378067970275879, 3.0875232219696045, 3.0940730571746826, 5.2644782066345215, 3.8277671337127686, 4.546807289123535, 4.542027950286865, 3.825100898742676, 4.204687118530273, 3.9748640060424805, 3.3893370628356934, 4.819479942321777, 4.156172275543213, 4.15617036819458, 4.156163215637207, 4.151533126831055, 2.8262412548065186, 5.541431903839111, 5.424530982971191, 4.841390132904053, 2.1611928939819336, 2.1611955165863037, 2.16117000579834, 2.155377149581909, 4.18823766708374, 1.496172547340393, 1.4961721897125244, 1.4961721897125244, 1.4961661100387573, 1.4961644411087036, 1.496164083480835, 1.4961639642715454, 1.4961611032485962, 1.496152639389038, 1.496151089668274, 1.4961360692977905, 1.4961315393447876, 1.4961256980895996, 1.4961196184158325, 1.4961183071136475, 1.496096134185791, 5.421998977661133, 2.83450984954834, 3.504628896713257, 5.461726188659668, 4.815524101257324, 2.857229471206665, 2.1638107299804688, 2.168107032775879, 6.843929767608643, 2.1625607013702393, 2.1004559993743896, 2.8544859886169434, 2.8264822959899902, 2.172588348388672, 3.3556525707244873, 2.166419267654419, 4.537737846374512, 2.8316493034362793, 2.568291425704956, 2.8302500247955322, 2.670842409133911, 2.406546115875244, 2.27105450630188, 2.1730949878692627, 4.055853366851807, 2.107074737548828, 1.460029125213623, 1.4600247144699097, 1.4600244760513306, 1.4600242376327515, 1.4600154161453247, 1.4599995613098145, 1.4599862098693848, 1.459983229637146, 1.4599697589874268, 1.4599634408950806, 1.4599440097808838, 1.4599162340164185, 1.459901213645935, 1.4598513841629028, 1.4597538709640503, 1.4597464799880981, 1.4593724012374878, 1.4548355340957642, 1.423913836479187, 1.374840497970581, 2.1120729446411133, 2.1117515563964844, 0.8110650181770325, 0.8110647797584534, 0.811064600944519, 0.8110644817352295, 0.8110644817352295, 0.8110640048980713, 5.706516742706299, 2.7702062129974365, 3.413212299346924, 2.1096010208129883, 1.4617472887039185, 1.4616596698760986, 2.1145644187927246, 2.1176295280456543, 5.399845123291016, 5.767144203186035, 2.7403786182403564, 2.1152477264404297, 3.4158992767333984, 3.4211771488189697, 3.1733226776123047, 3.8035149574279785, 2.094355583190918, 3.405087471008301, 2.776892900466919, 2.1169493198394775, 3.4031894207000732, 2.4240479469299316, 2.1305642127990723, 2.1076102256774902, 2.119534969329834, 1.7080566883087158, 1.485647201538086, 1.4673802852630615, 1.9925508499145508, 1.9925432205200195, 1.9925404787063599, 1.9922562837600708, 1.3794333934783936, 1.3794150352478027, 1.3794080018997192, 1.3794063329696655, 1.3794039487838745, 1.379399299621582, 1.3793905973434448, 1.3793871402740479, 1.37937593460083, 1.3793095350265503, 1.3589855432510376, 2.5172481536865234, 2.010350465774536, 1.991076946258545, 1.9910743236541748, 1.9953314065933228, 2.3145406246185303, 0.7662971019744873, 0.7662970423698425, 0.7662970423698425, 0.7662969827651978, 0.7662969827651978, 0.7662969827651978, 0.7662969827651978, 0.7662968039512634, 0.7662947773933411, 3.2305996417999268, 3.2283527851104736, 3.2274577617645264, 2.006631851196289, 1.3939424753189087, 1.381937026977539, 1.3810299634933472, 1.3809148073196411, 1.3847373723983765, 1.9997903108596802, 3.8371598720550537, 3.0150091648101807, 1.9987406730651855, 2.006906270980835, 2.9195613861083984, 2.6255924701690674, 2.6394472122192383, 1.9702458381652832, 2.6207053661346436, 2.353703498840332, 2.613220453262329, 1.999840259552002, 2.604949712753296, 2.0007121562957764, 2.482581377029419, 2.565464735031128, 1.9925259351730347], \"Term\": [\"case\", \"new\", \"confirmed\", \"discharged\", \"infection\", \"social\", \"safra\", \"food\", \"malaysia\", \"lee\", \"pm\", \"country\", \"thailand\", \"panic\", \"imported\", \"distancing\", \"sing\", \"chun\", \"chan\", \"buying\", \"patient\", \"home\", \"supply\", \"mask\", \"including\", \"stayhome\", \"notice\", \"employee\", \"barred\", \"spore\", \"confirmed\", \"discharged\", \"new\", \"infection\", \"case\", \"imported\", \"employee\", \"two\", \"anyone\", \"dinner\", \"diagnosed\", \"item\", \"freeze\", \"wong\", \"airline\", \"safra\", \"including\", \"sb\", \"bus\", \"punggol\", \"doctor\", \"yearold\", \"holder\", \"part\", \"confirms\", \"lawrence\", \"implementing\", \"crew\", \"moh\", \"company\", \"measure\", \"jurong\", \"spore\", \"time\", \"patient\", \"cluster\", \"linked\", \"positive\", \"march\", \"office\", \"driver\", \"say\", \"know\", \"travel\", \"worker\", \"people\", \"singaporean\", \"student\", \"day\", \"lee\", \"sing\", \"chun\", \"chan\", \"buying\", \"look\", \"food\", \"pm\", \"panic\", \"moe\", \"centre\", \"boost\", \"infectious\", \"supply\", \"month\", \"cargo\", \"flow\", \"ensure\", \"couple\", \"act\", \"charged\", \"israel\", \"cat\", \"attraction\", \"contact\", \"green\", \"hoard\", \"bishan\", \"doesnt\", \"tourist\", \"mask\", \"good\", \"dont\", \"distancing\", \"social\", \"think\", \"local\", \"strategy\", \"malaysia\", \"source\", \"overseas\", \"government\", \"take\", \"world\", \"lockdown\", \"staff\", \"spore\", \"worker\", \"situation\", \"say\", \"student\", \"virus\", \"country\", \"malaysian\", \"thailand\", \"uk\", \"opposition\", \"tan\", \"cheng\", \"bock\", \"begin\", \"pandemic\", \"area\", \"lock\", \"comment\", \"utensil\", \"shouldnt\", \"db\", \"prop\", \"graph\", \"tomorrow\", \"right\", \"night\", \"today\", \"thing\", \"causeway\", \"see\", \"italy\", \"alleging\", \"correct\", \"led\", \"user\", \"pofma\", \"politician\", \"country\", \"sg\", \"singapore\", \"police\", \"call\", \"sarscov\", \"cancelled\", \"place\", \"singaporean\", \"malaysia\", \"test\", \"restriction\", \"travel\", \"student\", \"lockdown\", \"cluster\", \"stay\", \"say\", \"malaysian\", \"border\", \"spore\", \"people\", \"government\", \"linked\", \"school\", \"situation\", \"three\", \"put\", \"keep\", \"family\", \"well\", \"missing\", \"robot\", \"open\", \"expert\", \"german\", \"much\", \"handle\", \"video\", \"receive\", \"isolation\", \"bit\", \"another\", \"barred\", \"testing\", \"ship\", \"cruise\", \"risk\", \"entering\", \"medicine\", \"deployed\", \"singlish\", \"clean\", \"meal\", \"whats\", \"chat\", \"second\", \"try\", \"stayhome\", \"home\", \"notice\", \"despite\", \"gathering\", \"ban\", \"experience\", \"hong\", \"asia\", \"safe\", \"social\", \"virus\", \"stay\", \"infected\", \"patient\", \"situation\", \"due\", \"church\", \"distancing\", \"day\", \"worker\", \"minister\", \"singaporean\", \"school\", \"cluster\", \"case\", \"say\"], \"Total\": [51.0, 35.0, 12.0, 12.0, 10.0, 8.0, 12.0, 6.0, 16.0, 5.0, 6.0, 9.0, 4.0, 5.0, 7.0, 9.0, 4.0, 4.0, 4.0, 4.0, 8.0, 5.0, 5.0, 8.0, 8.0, 5.0, 6.0, 5.0, 3.0, 20.0, 12.286162376403809, 12.285357475280762, 35.404335021972656, 10.829092979431152, 51.04854202270508, 7.201118469238281, 5.748410701751709, 5.737147808074951, 4.29548454284668, 3.56905460357666, 3.569052219390869, 3.5690507888793945, 3.5690479278564453, 3.5690464973449707, 3.569016695022583, 12.062629699707031, 8.584611892700195, 2.842601776123047, 2.842599630355835, 2.842599391937256, 2.8425986766815186, 2.842592716217041, 2.842594623565674, 2.842592477798462, 2.842583417892456, 2.8425886631011963, 2.8425819873809814, 2.842557907104492, 6.408458232879639, 5.6871562004089355, 13.350836753845215, 11.84968376159668, 20.206357955932617, 6.30219841003418, 8.869277954101562, 16.384885787963867, 6.9689178466796875, 6.984851360321045, 6.971030235290527, 4.2179341316223145, 4.234543800354004, 13.492341995239258, 6.905381679534912, 10.771512031555176, 10.783178329467773, 8.150944709777832, 13.966497421264648, 10.827086448669434, 8.063363075256348, 5.31846809387207, 4.653506278991699, 4.653506755828857, 4.653507232666016, 4.653888702392578, 3.3234262466430664, 6.704740047454834, 6.630922794342041, 5.933755397796631, 2.6583898067474365, 2.6583943367004395, 2.658393383026123, 2.6588523387908936, 5.26904296875, 1.9933550357818604, 1.9933552742004395, 1.9933552742004395, 1.9933557510375977, 1.993354082107544, 1.993354082107544, 1.993354082107544, 1.9933531284332275, 1.9933521747589111, 1.993351936340332, 1.9933500289916992, 1.9933513402938843, 1.9933499097824097, 1.9933476448059082, 1.9933499097824097, 1.993344783782959, 8.07702922821045, 4.048935413360596, 5.3624138832092285, 9.884675979614258, 8.9967622756958, 4.660974502563477, 3.271650791168213, 3.307427167892456, 16.085206985473633, 3.307267189025879, 3.3087575435638428, 5.991282939910889, 6.229053974151611, 4.032888412475586, 9.45279598236084, 4.106396198272705, 20.206357955932617, 10.783178329467773, 7.790488243103027, 13.492341995239258, 10.827086448669434, 7.115080833435059, 9.250361442565918, 8.656213760375977, 4.557061672210693, 2.6101198196411133, 1.9612194299697876, 1.9612185955047607, 1.9612185955047607, 1.9612185955047607, 1.9612176418304443, 1.9612162113189697, 1.9612144231796265, 1.9612138271331787, 1.9612126350402832, 1.9612151384353638, 1.9612140655517578, 1.9612065553665161, 1.96122145652771, 1.9612008333206177, 1.9612430334091187, 1.9612420797348022, 1.9612364768981934, 1.9617702960968018, 1.9591119289398193, 1.9564545154571533, 3.2750356197357178, 3.275012493133545, 1.3122506141662598, 1.3122507333755493, 1.3122506141662598, 1.3122507333755493, 1.3122507333755493, 1.3122506141662598, 9.250361442565918, 4.537344932556152, 6.465383529663086, 3.8363986015319824, 2.5743532180786133, 2.5743494033813477, 3.9488418102264404, 4.00042724609375, 13.966497421264648, 16.085206985473633, 6.106208801269531, 4.062129974365234, 10.771512031555176, 10.827086448669434, 9.45279598236084, 16.384885787963867, 4.449986457824707, 13.492341995239258, 8.656213760375977, 5.392148017883301, 20.206357955932617, 8.150944709777832, 5.991282939910889, 6.9689178466796875, 7.291592597961426, 7.790488243103027, 3.4108951091766357, 3.351780414581299, 2.5026988983154297, 2.5026984214782715, 2.5026986598968506, 2.5027458667755127, 1.8895705938339233, 1.889569878578186, 1.8895704746246338, 1.8895695209503174, 1.8895702362060547, 1.8895692825317383, 1.8895694017410278, 1.889568567276001, 1.88956880569458, 1.889570713043213, 1.8928444385528564, 3.7882254123687744, 3.166249990463257, 3.151723861694336, 3.151723861694336, 3.167381763458252, 3.781703472137451, 1.2764363288879395, 1.2764363288879395, 1.2764363288879395, 1.276436448097229, 1.276436448097229, 1.276436448097229, 1.2764365673065186, 1.2764363288879395, 1.2764363288879395, 5.844647407531738, 5.90638542175293, 6.571771621704102, 3.8753788471221924, 2.5562915802001953, 2.538273334503174, 2.5383262634277344, 2.5383381843566895, 2.5540289878845215, 3.954108953475952, 8.9967622756958, 7.115080833435059, 4.449986457824707, 4.61402702331543, 8.869277954101562, 7.790488243103027, 7.979400634765625, 4.625310897827148, 9.884675979614258, 8.063363075256348, 10.783178329467773, 5.278934478759766, 13.966497421264648, 7.291592597961426, 16.384885787963867, 51.04854202270508, 13.492341995239258], \"loglift\": [30.0, 29.0, 28.0, 27.0, 26.0, 25.0, 24.0, 23.0, 22.0, 21.0, 20.0, 19.0, 18.0, 17.0, 16.0, 15.0, 14.0, 13.0, 12.0, 11.0, 10.0, 9.0, 8.0, 7.0, 6.0, 5.0, 4.0, 3.0, 2.0, 1.0, 0.9916999936103821, 0.9911999702453613, 0.9869999885559082, 0.9828000068664551, 0.9700000286102295, 0.9624999761581421, 0.9444000124931335, 0.9261999726295471, 0.9129999876022339, 0.886900007724762, 0.886900007724762, 0.886900007724762, 0.886900007724762, 0.886900007724762, 0.8867999911308289, 0.8808000087738037, 0.8769000172615051, 0.8461999893188477, 0.8461999893188477, 0.8461999893188477, 0.8461999893188477, 0.8461999893188477, 0.8461999893188477, 0.8461999893188477, 0.8461999893188477, 0.8461999893188477, 0.8461999893188477, 0.8460999727249146, 0.8246999979019165, 0.8077999949455261, 0.7049999833106995, 0.667900025844574, 0.5171999931335449, 0.7074999809265137, 0.5759000182151794, 0.3898000121116638, 0.6037999987602234, 0.6025000214576721, 0.5667999982833862, 0.7200000286102295, 0.7182000279426575, 0.09080000221729279, 0.44190001487731934, 0.16949999332427979, 0.1673000007867813, 0.2754000127315521, -0.16850000619888306, 0.029899999499320984, 0.16529999673366547, 1.323199987411499, 1.3086999654769897, 1.3086999654769897, 1.3086999654769897, 1.3075000047683716, 1.259600043296814, 1.2310999631881714, 1.220900058746338, 1.2181999683380127, 1.2145999670028687, 1.2145999670028687, 1.2145999670028687, 1.2117999792099, 1.1921000480651855, 1.1347999572753906, 1.1347999572753906, 1.1347999572753906, 1.1347999572753906, 1.1347999572753906, 1.1347999572753906, 1.1347999572753906, 1.1347999572753906, 1.1347999572753906, 1.1347999572753906, 1.1347999572753906, 1.1347999572753906, 1.1347999572753906, 1.1346999406814575, 1.1346999406814575, 1.1346999406814575, 1.0231000185012817, 1.0650999546051025, 0.996399998664856, 0.828499972820282, 0.7967000007629395, 0.9322999715805054, 1.0082999467849731, 0.9994000196456909, 0.5672000050544739, 0.9969000220298767, 0.9672999978065491, 0.6802999973297119, 0.6315000057220459, 0.8030999898910522, 0.38600000739097595, 0.7821999788284302, -0.07190000265836716, 0.08460000157356262, 0.31200000643730164, -0.14010000228881836, 0.02199999988079071, 0.3377000093460083, 0.01730000041425228, 0.03959999978542328, 1.3975000381469727, 1.2999000549316406, 1.2188999652862549, 1.2188999652862549, 1.2188999652862549, 1.2188999652862549, 1.2188999652862549, 1.2188999652862549, 1.2187999486923218, 1.2187999486923218, 1.2187999486923218, 1.2187999486923218, 1.2187999486923218, 1.2187999486923218, 1.2187999486923218, 1.2187999486923218, 1.2187000513076782, 1.2187000513076782, 1.218400001525879, 1.215000033378601, 1.1949000358581543, 1.1612000465393066, 1.0752999782562256, 1.0751999616622925, 1.0327999591827393, 1.0327999591827393, 1.0327999591827393, 1.0327999591827393, 1.0327999591827393, 1.0327999591827393, 1.030900001525879, 1.0205999612808228, 0.8751999735832214, 0.9158999919891357, 0.9480000138282776, 0.9480000138282776, 0.8894000053405762, 0.8779000043869019, 0.5637000203132629, 0.48829999566078186, 0.7128000259399414, 0.8614000082015991, 0.36550000309944153, 0.3619000017642975, 0.42250001430511475, 0.05350000038743019, 0.7602999806404114, 0.1370999962091446, 0.37700000405311584, 0.5789999961853027, -0.267300009727478, 0.3012999892234802, 0.48010000586509705, 0.3181000053882599, 0.2784999907016754, -0.003599999938160181, 0.6829000115394592, 0.6880000233650208, 1.4737999439239502, 1.4737999439239502, 1.4737999439239502, 1.4737000465393066, 1.3870999813079834, 1.3870999813079834, 1.3870999813079834, 1.3870999813079834, 1.3870999813079834, 1.3870999813079834, 1.3870999813079834, 1.3870999813079834, 1.3870999813079834, 1.3869999647140503, 1.3704999685287476, 1.2930999994277954, 1.2475999593734741, 1.2424999475479126, 1.2424999475479126, 1.2396999597549438, 1.210800051689148, 1.191499948501587, 1.191499948501587, 1.191499948501587, 1.191499948501587, 1.191499948501587, 1.191499948501587, 1.191499948501587, 1.191499948501587, 1.191499948501587, 1.1088999509811401, 1.0976999998092651, 0.9907000064849854, 1.0435999631881714, 1.0953999757766724, 1.0937999486923218, 1.0930999517440796, 1.093000054359436, 1.0895999670028687, 1.0200999975204468, 0.8496999740600586, 0.8432000279426575, 0.9014000296592712, 0.8693000078201294, 0.5906000137329102, 0.6141999959945679, 0.5954999923706055, 0.8483999967575073, 0.3743000030517578, 0.47049999237060547, 0.28439998626708984, 0.7311000227928162, 0.02250000089406967, 0.40860000252723694, -0.18529999256134033, -1.2888000011444092, -0.21089999377727509], \"logprob\": [30.0, 29.0, 28.0, 27.0, 26.0, 25.0, 24.0, 23.0, 22.0, 21.0, 20.0, 19.0, 18.0, 17.0, 16.0, 15.0, 14.0, 13.0, 12.0, 11.0, 10.0, 9.0, 8.0, 7.0, 6.0, 5.0, 4.0, 3.0, 2.0, 1.0, -4.498199939727783, -4.498700141906738, -3.444499969482422, -4.633299827575684, -3.095599889755249, -5.061600208282471, -5.304999828338623, -5.325200080871582, -5.627799987792969, -5.839099884033203, -5.839099884033203, -5.839099884033203, -5.839099884033203, -5.839099884033203, -5.839200019836426, -4.627500057220459, -4.971499919891357, -6.107399940490723, -6.107399940490723, -6.107399940490723, -6.107399940490723, -6.107399940490723, -6.107399940490723, -6.107399940490723, -6.107399940490723, -6.107399940490723, -6.107399940490723, -6.107600212097168, -5.315999984741211, -5.452400207519531, -4.701700210571289, -4.858099937438965, -4.475100040435791, -5.449999809265137, -5.2399001121521, -4.81220006942749, -5.453100204467773, -5.452099800109863, -5.489799976348877, -5.839000225067139, -5.836900234222412, -5.3053998947143555, -5.624100208282471, -5.451900005340576, -5.453000068664551, -5.624800205230713, -5.530200004577637, -5.586400032043457, -5.745699882507324, -5.004000186920166, -5.152100086212158, -5.152100086212158, -5.152100086212158, -5.153200149536133, -5.537700176239014, -4.8643999099731445, -4.885700225830078, -4.9994001388549805, -5.806000232696533, -5.806000232696533, -5.806000232696533, -5.808700084686279, -5.144400119781494, -6.173699855804443, -6.173699855804443, -6.173699855804443, -6.173699855804443, -6.173699855804443, -6.173699855804443, -6.173699855804443, -6.173699855804443, -6.173699855804443, -6.173799991607666, -6.173799991607666, -6.173799991607666, -6.173799991607666, -6.173799991607666, -6.173799991607666, -6.173799991607666, -4.886199951171875, -5.534800052642822, -5.3225998878479, -4.878900051116943, -5.004799842834473, -5.526800155639648, -5.804800033569336, -5.802800178527832, -4.653299808502197, -5.8053998947143555, -5.834499835968018, -5.5278000831604, -5.537600040435791, -5.8007001876831055, -5.366000175476074, -5.803599834442139, -5.064199924468994, -5.535799980163574, -5.633399963378906, -5.536300182342529, -5.594299793243408, -5.698500156402588, -5.756400108337402, -5.80049991607666, -5.084199905395508, -5.739099979400635, -6.105899810791016, -6.105899810791016, -6.105899810791016, -6.105899810791016, -6.105899810791016, -6.105899810791016, -6.105899810791016, -6.105899810791016, -6.105899810791016, -6.105899810791016, -6.105999946594238, -6.105999946594238, -6.105999946594238, -6.105999946594238, -6.106100082397461, -6.106100082397461, -6.106299877166748, -6.109499931335449, -6.130899906158447, -6.165999889373779, -5.736700057983398, -5.736800193786621, -6.69379997253418, -6.69379997253418, -6.69379997253418, -6.69379997253418, -6.69379997253418, -6.69379997253418, -4.742700099945068, -5.465400218963623, -5.256700038909912, -5.7378997802734375, -6.104700088500977, -6.104800224304199, -5.735499858856201, -5.734099864959717, -4.797999858856201, -4.7322001457214355, -5.47629976272583, -5.735199928283691, -5.255899906158447, -5.25439977645874, -5.329599857330322, -5.148399829864502, -5.745100021362305, -5.259099960327148, -5.4629998207092285, -5.734399795532227, -5.2596001625061035, -5.598899841308594, -5.728000164031982, -5.738800048828125, -5.7332000732421875, -5.948999881744385, -6.088500022888184, -6.100900173187256, -5.607100009918213, -5.607100009918213, -5.607100009918213, -5.6072998046875, -5.974899768829346, -5.974899768829346, -5.974899768829346, -5.974899768829346, -5.974899768829346, -5.974899768829346, -5.974899768829346, -5.974899768829346, -5.974899768829346, -5.974999904632568, -5.989799976348877, -5.3734002113342285, -5.598199844360352, -5.607900142669678, -5.607900142669678, -5.6057000160217285, -5.457300186157227, -6.562699794769287, -6.562699794769287, -6.562699794769287, -6.562699794769287, -6.562699794769287, -6.562699794769287, -6.562699794769287, -6.562699794769287, -6.562699794769287, -5.123899936676025, -5.124599933624268, -5.124800205230713, -5.600100040435791, -5.964399814605713, -5.973100185394287, -5.973700046539307, -5.973800182342529, -5.9710001945495605, -5.603499889373779, -4.9517998695373535, -5.19290018081665, -5.604000091552734, -5.599899768829346, -5.225100040435791, -5.331200122833252, -5.326000213623047, -5.6184000968933105, -5.333099842071533, -5.440499782562256, -5.335999965667725, -5.603499889373779, -5.339099884033203, -5.603000164031982, -5.387199878692627, -5.354400157928467, -5.607100009918213]}, \"token.table\": {\"Topic\": [2, 1, 3, 4, 1, 3, 2, 4, 2, 3, 4, 2, 4, 3, 2, 4, 3, 2, 1, 2, 3, 1, 2, 3, 4, 1, 3, 4, 2, 1, 4, 2, 3, 2, 2, 2, 4, 3, 2, 1, 2, 4, 4, 1, 2, 3, 4, 3, 1, 2, 1, 1, 2, 3, 1, 2, 3, 2, 1, 3, 4, 1, 2, 4, 3, 4, 1, 3, 4, 1, 1, 1, 1, 2, 4, 1, 2, 1, 2, 3, 1, 2, 1, 2, 3, 4, 1, 2, 3, 4, 3, 4, 4, 4, 2, 1, 2, 1, 2, 4, 4, 1, 2, 1, 2, 3, 3, 2, 4, 2, 1, 1, 4, 3, 4, 1, 1, 1, 2, 1, 2, 4, 1, 2, 4, 2, 2, 3, 1, 1, 2, 3, 4, 4, 1, 2, 4, 1, 3, 2, 1, 3, 2, 4, 3, 1, 2, 3, 2, 1, 2, 3, 1, 2, 3, 4, 1, 2, 3, 1, 2, 3, 4, 1, 2, 3, 4, 4, 1, 2, 3, 4, 4, 2, 1, 2, 2, 4, 1, 3, 3, 1, 2, 4, 1, 3, 4, 3, 2, 3, 3, 2, 4, 1, 1, 4, 1, 2, 3, 4, 1, 2, 3, 2, 3, 3, 3, 4, 3, 1, 2, 3, 3, 1, 1, 2, 3, 4, 1, 3, 3, 2, 4, 4, 1, 4, 1, 4, 3, 4, 1, 2, 3, 4, 1, 1, 2, 3, 4, 4, 2, 3, 2, 3, 4, 3, 4, 3, 2, 2, 3, 4, 1, 2, 3, 4, 4, 1, 2, 3, 4, 2, 4, 2, 3, 1, 2, 3, 1, 2, 3, 4, 1, 2, 4, 2, 3, 1, 2, 3, 4, 2, 4, 1, 2, 3, 1, 2, 3, 2, 4, 3, 3, 1, 2, 4, 1, 3, 1, 2, 4, 3, 3, 2, 1, 2, 3, 4, 4, 1, 3, 3, 3, 4, 1, 2, 3, 4, 4, 4, 1, 1, 2, 3, 4, 1, 2, 3, 1], \"Freq\": [0.5016670227050781, 0.8405676484107971, 0.7620495557785034, 0.5283054113388062, 0.9312103986740112, 0.5098881721496582, 0.39153823256492615, 0.39153823256492615, 0.5016675591468811, 0.3939686119556427, 0.3939686119556427, 0.2639758586883545, 0.7919275164604187, 0.5098873376846313, 0.5016686320304871, 0.5292207598686218, 0.5098870396614075, 0.7523341178894043, 0.3709096908569336, 0.1854548454284668, 0.3709096908569336, 0.7035813331604004, 0.8594962954521179, 0.3884470760822296, 0.3884470760822296, 0.2532387971878052, 0.5064775943756104, 0.2532387971878052, 0.5016667246818542, 0.9402815103530884, 0.058767594397068024, 0.5016674995422363, 0.5111286640167236, 0.7523338198661804, 0.8595667481422424, 0.5016670227050781, 0.7834309935569763, 0.5098870396614075, 0.8595668077468872, 0.4324033558368683, 0.21620167791843414, 0.4324033558368683, 0.7834311127662659, 0.5492867231369019, 0.06103185564279556, 0.24412742257118225, 0.12206371128559113, 0.5098885893821716, 0.879173994064331, 0.1758348047733307, 0.9767085909843445, 0.7035853266716003, 0.5016680359840393, 0.7620494961738586, 0.10810388624668121, 0.21620777249336243, 0.6486232876777649, 0.5016670227050781, 0.7035916447639465, 0.3172866702079773, 0.6345733404159546, 0.37205320596694946, 0.2480354607105255, 0.2480354607105255, 0.5098901987075806, 0.7834311723709106, 0.25803929567337036, 0.25803929567337036, 0.5160785913467407, 0.8405593037605286, 0.8405587077140808, 0.9767725467681885, 0.20233339071273804, 0.5058334469795227, 0.30350008606910706, 0.7035815715789795, 0.5016680955886841, 0.18648317456245422, 0.7459326982498169, 0.18648317456245422, 0.7084588408470154, 0.23615294694900513, 0.3759680986404419, 0.12532269954681396, 0.12532269954681396, 0.3759680986404419, 0.869805634021759, 0.5016666054725647, 0.26443108916282654, 0.5288621783256531, 0.3939603865146637, 0.3939603865146637, 0.5292208194732666, 0.7991374135017395, 0.5016667246818542, 0.14914821088314056, 0.8948892951011658, 0.8405603170394897, 0.391191691160202, 0.391191691160202, 0.5292210578918457, 0.2469785064458847, 0.7409355044364929, 0.16690915822982788, 0.5007274746894836, 0.33381831645965576, 0.5098916888237, 0.5016677379608154, 0.5292211174964905, 0.5016680955886841, 0.7035825848579407, 0.33861657977104187, 0.5079248547554016, 0.39395853877067566, 0.39395853877067566, 0.703585684299469, 0.9720712304115295, 0.8154125213623047, 0.11648750305175781, 0.4334608316421509, 0.21673041582107544, 0.4334608316421509, 0.9234383702278137, 0.7522042393684387, 0.5292212963104248, 0.5016672611236572, 0.30534234642982483, 0.6106846928596497, 0.8405596017837524, 0.6751235127449036, 0.08439043909311295, 0.08439043909311295, 0.08439043909311295, 0.79913729429245, 0.5792583227157593, 0.28962916135787964, 0.14481458067893982, 0.7035840153694153, 0.7620495557785034, 0.9401203393936157, 0.7174714803695679, 0.28698861598968506, 0.611312210559845, 0.3056561052799225, 0.5098882913589478, 0.31736642122268677, 0.31736642122268677, 0.31736642122268677, 0.902682900428772, 0.18650676310062408, 0.43518245220184326, 0.37301352620124817, 0.23104789853096008, 0.23104789853096008, 0.3465718626976013, 0.11552394926548004, 0.5738033056259155, 0.14345082640647888, 0.14345082640647888, 0.24761579930782318, 0.6190394759178162, 0.12380789965391159, 0.7834311127662659, 0.7490167021751404, 0.14980334043502808, 0.07490167021751404, 0.07490167021751404, 0.7834311723709106, 0.3788643479347229, 0.18943217396736145, 0.18943217396736145, 0.3788643479347229, 0.7991222739219666, 0.7523351311683655, 0.7802188396453857, 0.15604376792907715, 0.501666784286499, 0.5292208790779114, 0.9603343605995178, 0.02824512869119644, 0.509882390499115, 0.3043319284915924, 0.1521659642457962, 0.4564979076385498, 0.7112486362457275, 0.23708288371562958, 0.5292209386825562, 0.5098868608474731, 0.6044564843177795, 0.30222824215888977, 0.5098876953125, 0.8426367044448853, 0.16852733492851257, 0.7035830616950989, 0.6764925122261047, 0.33824625611305237, 0.49074065685272217, 0.12268516421318054, 0.24537032842636108, 0.12268516421318054, 0.24997329711914062, 0.24997329711914062, 0.49994659423828125, 0.7540428638458252, 0.15080857276916504, 0.7620494961738586, 0.5213222503662109, 0.26066112518310547, 0.7620495557785034, 0.7158348560333252, 0.14316697418689728, 0.14316697418689728, 0.5098863244056702, 0.7035813927650452, 0.29834890365600586, 0.29834890365600586, 0.29834890365600586, 0.5292213559150696, 0.49235254526138306, 0.49235254526138306, 0.5098809599876404, 0.3157181739807129, 0.6314363479614258, 0.5292207598686218, 0.5058029294013977, 0.5058029294013977, 0.8290066123008728, 0.08290066570043564, 0.38844767212867737, 0.38844767212867737, 0.3705805838108063, 0.22234834730625153, 0.22234834730625153, 0.14823223650455475, 0.7035807967185974, 0.27428850531578064, 0.13714425265789032, 0.27428850531578064, 0.27428850531578064, 0.7834311723709106, 0.3053402006626129, 0.6106804013252258, 0.22039321064949036, 0.6611796021461487, 0.22039321064949036, 0.3172866702079773, 0.6345733404159546, 0.509888231754303, 0.8595669269561768, 0.1546698659658432, 0.4640095829963684, 0.1546698659658432, 0.2863996624946594, 0.1431998312473297, 0.3579995632171631, 0.21479973196983337, 0.7834311723709106, 0.12836165726184845, 0.38508498668670654, 0.2567233145236969, 0.38508498668670654, 0.5557554960250854, 0.44460439682006836, 0.6047288775444031, 0.30236443877220154, 0.5938724875450134, 0.24744686484336853, 0.14846812188625336, 0.4870450496673584, 0.4870450496673584, 0.44943955540657043, 0.44943955540657043, 0.34219345450401306, 0.17109672725200653, 0.5132901668548584, 0.6046996116638184, 0.3023498058319092, 0.36944380402565, 0.2770828604698181, 0.2770828604698181, 0.0923609510064125, 0.7591511607170105, 0.18978779017925262, 0.48161405324935913, 0.48161405324935913, 0.5098870396614075, 0.327535480260849, 0.1637677401304245, 0.4913032054901123, 0.3158310353755951, 0.6316620707511902, 0.8777585625648499, 0.5104353427886963, 0.21454741060733795, 0.643642246723175, 0.21454741060733795, 0.5863563418388367, 0.29317817091941833, 0.7933739423751831, 0.15867479145526886, 0.15867479145526886, 0.5097436904907227, 0.5098807215690613, 0.5016693472862244, 0.4641873836517334, 0.09283747524023056, 0.2785124182701111, 0.18567495048046112, 0.7834311723709106, 0.8715131878852844, 0.766248345375061, 0.7620494961738586, 0.5098879933357239, 0.5292211174964905, 0.1405465453863144, 0.2810930907726288, 0.1405465453863144, 0.421639621257782, 0.7991373538970947, 0.7834311127662659, 0.8405606150627136, 0.46368518471717834, 0.2782111167907715, 0.09273703396320343, 0.2782111167907715, 0.24796123802661896, 0.4959224760532379, 0.24796123802661896, 0.7035830020904541], \"Term\": [\"act\", \"airline\", \"alleging\", \"another\", \"anyone\", \"area\", \"asia\", \"asia\", \"attraction\", \"ban\", \"ban\", \"barred\", \"barred\", \"begin\", \"bishan\", \"bit\", \"bock\", \"boost\", \"border\", \"border\", \"border\", \"bus\", \"buying\", \"call\", \"call\", \"cancelled\", \"cancelled\", \"cancelled\", \"cargo\", \"case\", \"case\", \"cat\", \"causeway\", \"centre\", \"chan\", \"charged\", \"chat\", \"cheng\", \"chun\", \"church\", \"church\", \"church\", \"clean\", \"cluster\", \"cluster\", \"cluster\", \"cluster\", \"comment\", \"company\", \"company\", \"confirmed\", \"confirms\", \"contact\", \"correct\", \"country\", \"country\", \"country\", \"couple\", \"crew\", \"cruise\", \"cruise\", \"day\", \"day\", \"day\", \"db\", \"deployed\", \"despite\", \"despite\", \"despite\", \"diagnosed\", \"dinner\", \"discharged\", \"distancing\", \"distancing\", \"distancing\", \"doctor\", \"doesnt\", \"dont\", \"dont\", \"dont\", \"driver\", \"driver\", \"due\", \"due\", \"due\", \"due\", \"employee\", \"ensure\", \"entering\", \"entering\", \"experience\", \"experience\", \"expert\", \"family\", \"flow\", \"food\", \"food\", \"freeze\", \"gathering\", \"gathering\", \"german\", \"good\", \"good\", \"government\", \"government\", \"government\", \"graph\", \"green\", \"handle\", \"hoard\", \"holder\", \"home\", \"home\", \"hong\", \"hong\", \"implementing\", \"imported\", \"including\", \"including\", \"infected\", \"infected\", \"infected\", \"infection\", \"infectious\", \"isolation\", \"israel\", \"italy\", \"italy\", \"item\", \"jurong\", \"jurong\", \"jurong\", \"jurong\", \"keep\", \"know\", \"know\", \"know\", \"lawrence\", \"led\", \"lee\", \"linked\", \"linked\", \"local\", \"local\", \"lock\", \"lockdown\", \"lockdown\", \"lockdown\", \"look\", \"malaysia\", \"malaysia\", \"malaysia\", \"malaysian\", \"malaysian\", \"malaysian\", \"malaysian\", \"march\", \"march\", \"march\", \"mask\", \"mask\", \"mask\", \"meal\", \"measure\", \"measure\", \"measure\", \"measure\", \"medicine\", \"minister\", \"minister\", \"minister\", \"minister\", \"missing\", \"moe\", \"moh\", \"moh\", \"month\", \"much\", \"new\", \"new\", \"night\", \"notice\", \"notice\", \"notice\", \"office\", \"office\", \"open\", \"opposition\", \"overseas\", \"overseas\", \"pandemic\", \"panic\", \"panic\", \"part\", \"patient\", \"patient\", \"people\", \"people\", \"people\", \"people\", \"place\", \"place\", \"place\", \"pm\", \"pm\", \"pofma\", \"police\", \"police\", \"politician\", \"positive\", \"positive\", \"positive\", \"prop\", \"punggol\", \"put\", \"put\", \"put\", \"receive\", \"restriction\", \"restriction\", \"right\", \"risk\", \"risk\", \"robot\", \"safe\", \"safe\", \"safra\", \"safra\", \"sarscov\", \"sarscov\", \"say\", \"say\", \"say\", \"say\", \"sb\", \"school\", \"school\", \"school\", \"school\", \"second\", \"see\", \"see\", \"sg\", \"sg\", \"sg\", \"ship\", \"ship\", \"shouldnt\", \"sing\", \"singapore\", \"singapore\", \"singapore\", \"singaporean\", \"singaporean\", \"singaporean\", \"singaporean\", \"singlish\", \"situation\", \"situation\", \"situation\", \"situation\", \"social\", \"social\", \"source\", \"source\", \"spore\", \"spore\", \"spore\", \"staff\", \"staff\", \"stay\", \"stay\", \"stayhome\", \"stayhome\", \"stayhome\", \"strategy\", \"strategy\", \"student\", \"student\", \"student\", \"student\", \"supply\", \"supply\", \"take\", \"take\", \"tan\", \"test\", \"test\", \"test\", \"testing\", \"testing\", \"thailand\", \"thing\", \"think\", \"think\", \"think\", \"three\", \"three\", \"time\", \"time\", \"time\", \"today\", \"tomorrow\", \"tourist\", \"travel\", \"travel\", \"travel\", \"travel\", \"try\", \"two\", \"uk\", \"user\", \"utensil\", \"video\", \"virus\", \"virus\", \"virus\", \"virus\", \"well\", \"whats\", \"wong\", \"worker\", \"worker\", \"worker\", \"worker\", \"world\", \"world\", \"world\", \"yearold\"]}, \"R\": 30, \"lambda.step\": 0.01, \"plot.opts\": {\"xlab\": \"PC1\", \"ylab\": \"PC2\"}, \"topic.order\": [1, 3, 2, 4]};\n",
       "\n",
       "function LDAvis_load_lib(url, callback){\n",
       "  var s = document.createElement('script');\n",
       "  s.src = url;\n",
       "  s.async = true;\n",
       "  s.onreadystatechange = s.onload = callback;\n",
       "  s.onerror = function(){console.warn(\"failed to load library \" + url);};\n",
       "  document.getElementsByTagName(\"head\")[0].appendChild(s);\n",
       "}\n",
       "\n",
       "if(typeof(LDAvis) !== \"undefined\"){\n",
       "   // already loaded: just create the visualization\n",
       "   !function(LDAvis){\n",
       "       new LDAvis(\"#\" + \"ldavis_el2024026455023111129599957179\", ldavis_el2024026455023111129599957179_data);\n",
       "   }(LDAvis);\n",
       "}else if(typeof define === \"function\" && define.amd){\n",
       "   // require.js is available: use it to load d3/LDAvis\n",
       "   require.config({paths: {d3: \"https://cdnjs.cloudflare.com/ajax/libs/d3/3.5.5/d3.min\"}});\n",
       "   require([\"d3\"], function(d3){\n",
       "      window.d3 = d3;\n",
       "      LDAvis_load_lib(\"https://cdn.rawgit.com/bmabey/pyLDAvis/files/ldavis.v1.0.0.js\", function(){\n",
       "        new LDAvis(\"#\" + \"ldavis_el2024026455023111129599957179\", ldavis_el2024026455023111129599957179_data);\n",
       "      });\n",
       "    });\n",
       "}else{\n",
       "    // require.js not available: dynamically load d3 & LDAvis\n",
       "    LDAvis_load_lib(\"https://cdnjs.cloudflare.com/ajax/libs/d3/3.5.5/d3.min.js\", function(){\n",
       "         LDAvis_load_lib(\"https://cdn.rawgit.com/bmabey/pyLDAvis/files/ldavis.v1.0.0.js\", function(){\n",
       "                 new LDAvis(\"#\" + \"ldavis_el2024026455023111129599957179\", ldavis_el2024026455023111129599957179_data);\n",
       "            })\n",
       "         });\n",
       "}\n",
       "</script>"
      ],
      "text/plain": [
       "PreparedData(topic_coordinates=              x         y  topics  cluster       Freq\n",
       "topic                                                \n",
       "0      0.145484  0.022112       1        1  35.630669\n",
       "2     -0.076584  0.103172       2        1  24.130596\n",
       "1     -0.048247 -0.075989       3        1  22.003180\n",
       "3     -0.020653 -0.049296       4        1  18.235550, topic_info=    Category       Freq         Term      Total  loglift  logprob\n",
       "38   Default  51.000000         case  51.000000  30.0000  30.0000\n",
       "41   Default  35.000000          new  35.000000  29.0000  29.0000\n",
       "324  Default  12.000000    confirmed  12.000000  28.0000  28.0000\n",
       "325  Default  12.000000   discharged  12.000000  27.0000  27.0000\n",
       "40   Default  10.000000    infection  10.000000  26.0000  26.0000\n",
       "..       ...        ...          ...        ...      ...      ...\n",
       "5     Topic4   2.604950  singaporean  13.966497   0.0225  -5.3391\n",
       "417   Topic4   2.000712       school   7.291593   0.4086  -5.6030\n",
       "144   Topic4   2.482581      cluster  16.384886  -0.1853  -5.3872\n",
       "38    Topic4   2.565465         case  51.048542  -1.2888  -5.3544\n",
       "58    Topic4   1.992526          say  13.492342  -0.2109  -5.6071\n",
       "\n",
       "[248 rows x 6 columns], token_table=      Topic      Freq      Term\n",
       "term                           \n",
       "180       2  0.501667       act\n",
       "779       1  0.840568   airline\n",
       "1420      3  0.762050  alleging\n",
       "143       4  0.528305   another\n",
       "746       1  0.931210    anyone\n",
       "...     ...       ...       ...\n",
       "134       4  0.278211    worker\n",
       "100       1  0.247961     world\n",
       "100       2  0.495922     world\n",
       "100       3  0.247961     world\n",
       "390       1  0.703583   yearold\n",
       "\n",
       "[329 rows x 3 columns], R=30, lambda_step=0.01, plot_opts={'xlab': 'PC1', 'ylab': 'PC2'}, topic_order=[1, 3, 2, 4])"
      ]
     },
     "execution_count": 218,
     "metadata": {},
     "output_type": "execute_result"
    }
   ],
   "source": [
    "# Show visualisation\n",
    "p"
   ]
  },
  {
   "cell_type": "code",
   "execution_count": 217,
   "metadata": {},
   "outputs": [],
   "source": [
    "# Save visualisation to html page\n",
    "# pyLDAvis.save_html(p, 'reddit_lda.html')"
   ]
  },
  {
   "cell_type": "markdown",
   "metadata": {},
   "source": [
    "#### Finalize Model"
   ]
  },
  {
   "cell_type": "code",
   "execution_count": 2,
   "metadata": {},
   "outputs": [],
   "source": [
    "import pickle"
   ]
  },
  {
   "cell_type": "code",
   "execution_count": 66,
   "metadata": {},
   "outputs": [],
   "source": [
    "#save model to disk\n",
    "# pickle.dump(ldamodel, open(\"reddit_topics\", \"wb\"))"
   ]
  },
  {
   "cell_type": "code",
   "execution_count": 21,
   "metadata": {},
   "outputs": [
    {
     "name": "stdout",
     "output_type": "stream",
     "text": [
      "0: 0.045*\"case\" + 0.032*\"new\" + 0.011*\"spore\" + 0.011*\"confirmed\" + 0.011*\"discharged\" + 0.010*\"safra\" + 0.010*\"infection\" + 0.009*\"measure\" + 0.008*\"cluster\" + 0.008*\"jurong\"\n",
      "1: 0.009*\"malaysia\" + 0.009*\"country\" + 0.008*\"singaporean\" + 0.006*\"thailand\" + 0.006*\"cluster\" + 0.005*\"student\" + 0.005*\"travel\" + 0.005*\"singapore\" + 0.005*\"say\" + 0.005*\"spore\"\n",
      "2: 0.010*\"malaysia\" + 0.008*\"food\" + 0.008*\"distancing\" + 0.008*\"pm\" + 0.008*\"mask\" + 0.007*\"panic\" + 0.007*\"lee\" + 0.007*\"social\" + 0.006*\"spore\" + 0.006*\"supply\"\n",
      "3: 0.007*\"social\" + 0.006*\"stayhome\" + 0.006*\"home\" + 0.006*\"notice\" + 0.006*\"virus\" + 0.005*\"patient\" + 0.005*\"due\" + 0.005*\"situation\" + 0.005*\"distancing\" + 0.005*\"worker\"\n"
     ]
    }
   ],
   "source": [
    "#load model from disk\n",
    "ldamodel = pickle.load(open(\"reddit_topics\", 'rb'))\n",
    "for num ,topic in ldamodel.show_topics(formatted=True, num_topics=num_topics, num_words=10):\n",
    "    print(str(num)+\": \"+ topic)"
   ]
  },
  {
   "cell_type": "markdown",
   "metadata": {},
   "source": [
    "### Save & Restore Notebook Session"
   ]
  },
  {
   "cell_type": "code",
   "execution_count": null,
   "metadata": {},
   "outputs": [],
   "source": [
    "# !pip install dill"
   ]
  },
  {
   "cell_type": "code",
   "execution_count": 36,
   "metadata": {},
   "outputs": [],
   "source": [
    "import dill"
   ]
  },
  {
   "cell_type": "code",
   "execution_count": 41,
   "metadata": {},
   "outputs": [],
   "source": [
    "#save notebook session\n",
    "dill.dump_session('reddit_lda.db')"
   ]
  },
  {
   "cell_type": "code",
   "execution_count": null,
   "metadata": {},
   "outputs": [],
   "source": [
    "#restore notebook session\n",
    "dill.load_session('reddit_lda.db')"
   ]
  }
 ],
 "metadata": {
  "kernelspec": {
   "display_name": "Python 3",
   "language": "python",
   "name": "python3"
  },
  "language_info": {
   "codemirror_mode": {
    "name": "ipython",
    "version": 3
   },
   "file_extension": ".py",
   "mimetype": "text/x-python",
   "name": "python",
   "nbconvert_exporter": "python",
   "pygments_lexer": "ipython3",
   "version": "3.7.6"
  },
  "toc": {
   "base_numbering": 1,
   "nav_menu": {},
   "number_sections": true,
   "sideBar": true,
   "skip_h1_title": false,
   "title_cell": "Table of Contents",
   "title_sidebar": "Contents",
   "toc_cell": false,
   "toc_position": {},
   "toc_section_display": true,
   "toc_window_display": false
  },
  "varInspector": {
   "cols": {
    "lenName": 16,
    "lenType": 16,
    "lenVar": 40
   },
   "kernels_config": {
    "python": {
     "delete_cmd_postfix": "",
     "delete_cmd_prefix": "del ",
     "library": "var_list.py",
     "varRefreshCmd": "print(var_dic_list())"
    },
    "r": {
     "delete_cmd_postfix": ") ",
     "delete_cmd_prefix": "rm(",
     "library": "var_list.r",
     "varRefreshCmd": "cat(var_dic_list()) "
    }
   },
   "types_to_exclude": [
    "module",
    "function",
    "builtin_function_or_method",
    "instance",
    "_Feature"
   ],
   "window_display": false
  }
 },
 "nbformat": 4,
 "nbformat_minor": 2
}
